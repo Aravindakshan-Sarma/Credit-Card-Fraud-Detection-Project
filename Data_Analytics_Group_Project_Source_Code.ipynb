{
 "cells": [
  {
   "cell_type": "markdown",
   "id": "ef2abafc",
   "metadata": {},
   "source": [
    "# Mid Term Group Project"
   ]
  },
  {
   "cell_type": "markdown",
   "id": "42caacd6",
   "metadata": {},
   "source": [
    "## Exploratory Data Analysis"
   ]
  },
  {
   "cell_type": "code",
   "execution_count": 118,
   "id": "63786a29",
   "metadata": {},
   "outputs": [],
   "source": [
    "import pandas as pd\n",
    "import numpy as np\n",
    "import matplotlib.pyplot as plt\n",
    "from sklearn.metrics import roc_auc_score\n",
    "from sklearn.preprocessing import LabelEncoder\n",
    "from sklearn.ensemble import RandomForestClassifier\n",
    "from sklearn.tree import DecisionTreeClassifier\n",
    "import gc\n",
    "import seaborn as sns\n",
    "\n",
    "\n",
    "%matplotlib inline"
   ]
  },
  {
   "cell_type": "code",
   "execution_count": 119,
   "id": "1f2553cd",
   "metadata": {},
   "outputs": [],
   "source": [
    "tr_identity = pd.read_csv('identity.csv')  #Reading Identity file\n",
    "tr_transaction = pd.read_csv('transaction.csv') #Reading Transaction file"
   ]
  },
  {
   "cell_type": "markdown",
   "id": "222dd152",
   "metadata": {},
   "source": [
    "Checking sample data from identity and transaction table using head() command"
   ]
  },
  {
   "cell_type": "code",
   "execution_count": 120,
   "id": "4bf39416",
   "metadata": {
    "scrolled": true
   },
   "outputs": [
    {
     "data": {
      "text/html": [
       "<div>\n",
       "<style scoped>\n",
       "    .dataframe tbody tr th:only-of-type {\n",
       "        vertical-align: middle;\n",
       "    }\n",
       "\n",
       "    .dataframe tbody tr th {\n",
       "        vertical-align: top;\n",
       "    }\n",
       "\n",
       "    .dataframe thead th {\n",
       "        text-align: right;\n",
       "    }\n",
       "</style>\n",
       "<table border=\"1\" class=\"dataframe\">\n",
       "  <thead>\n",
       "    <tr style=\"text-align: right;\">\n",
       "      <th></th>\n",
       "      <th>TransactionID</th>\n",
       "      <th>id_01</th>\n",
       "      <th>id_02</th>\n",
       "      <th>id_03</th>\n",
       "      <th>id_04</th>\n",
       "      <th>id_05</th>\n",
       "      <th>id_06</th>\n",
       "      <th>id_07</th>\n",
       "      <th>id_08</th>\n",
       "      <th>id_09</th>\n",
       "      <th>...</th>\n",
       "      <th>id_31</th>\n",
       "      <th>id_32</th>\n",
       "      <th>id_33</th>\n",
       "      <th>id_34</th>\n",
       "      <th>id_35</th>\n",
       "      <th>id_36</th>\n",
       "      <th>id_37</th>\n",
       "      <th>id_38</th>\n",
       "      <th>DeviceType</th>\n",
       "      <th>DeviceInfo</th>\n",
       "    </tr>\n",
       "  </thead>\n",
       "  <tbody>\n",
       "    <tr>\n",
       "      <th>0</th>\n",
       "      <td>2987004</td>\n",
       "      <td>0.0</td>\n",
       "      <td>70787.0</td>\n",
       "      <td>NaN</td>\n",
       "      <td>NaN</td>\n",
       "      <td>NaN</td>\n",
       "      <td>NaN</td>\n",
       "      <td>NaN</td>\n",
       "      <td>NaN</td>\n",
       "      <td>NaN</td>\n",
       "      <td>...</td>\n",
       "      <td>samsung browser 6.2</td>\n",
       "      <td>32.0</td>\n",
       "      <td>2220x1080</td>\n",
       "      <td>match_status:2</td>\n",
       "      <td>T</td>\n",
       "      <td>F</td>\n",
       "      <td>T</td>\n",
       "      <td>T</td>\n",
       "      <td>mobile</td>\n",
       "      <td>SAMSUNG SM-G892A Build/NRD90M</td>\n",
       "    </tr>\n",
       "    <tr>\n",
       "      <th>1</th>\n",
       "      <td>2987008</td>\n",
       "      <td>-5.0</td>\n",
       "      <td>98945.0</td>\n",
       "      <td>NaN</td>\n",
       "      <td>NaN</td>\n",
       "      <td>0.0</td>\n",
       "      <td>-5.0</td>\n",
       "      <td>NaN</td>\n",
       "      <td>NaN</td>\n",
       "      <td>NaN</td>\n",
       "      <td>...</td>\n",
       "      <td>mobile safari 11.0</td>\n",
       "      <td>32.0</td>\n",
       "      <td>1334x750</td>\n",
       "      <td>match_status:1</td>\n",
       "      <td>T</td>\n",
       "      <td>F</td>\n",
       "      <td>F</td>\n",
       "      <td>T</td>\n",
       "      <td>mobile</td>\n",
       "      <td>iOS Device</td>\n",
       "    </tr>\n",
       "    <tr>\n",
       "      <th>2</th>\n",
       "      <td>2987010</td>\n",
       "      <td>-5.0</td>\n",
       "      <td>191631.0</td>\n",
       "      <td>0.0</td>\n",
       "      <td>0.0</td>\n",
       "      <td>0.0</td>\n",
       "      <td>0.0</td>\n",
       "      <td>NaN</td>\n",
       "      <td>NaN</td>\n",
       "      <td>0.0</td>\n",
       "      <td>...</td>\n",
       "      <td>chrome 62.0</td>\n",
       "      <td>NaN</td>\n",
       "      <td>NaN</td>\n",
       "      <td>NaN</td>\n",
       "      <td>F</td>\n",
       "      <td>F</td>\n",
       "      <td>T</td>\n",
       "      <td>T</td>\n",
       "      <td>desktop</td>\n",
       "      <td>Windows</td>\n",
       "    </tr>\n",
       "    <tr>\n",
       "      <th>3</th>\n",
       "      <td>2987011</td>\n",
       "      <td>-5.0</td>\n",
       "      <td>221832.0</td>\n",
       "      <td>NaN</td>\n",
       "      <td>NaN</td>\n",
       "      <td>0.0</td>\n",
       "      <td>-6.0</td>\n",
       "      <td>NaN</td>\n",
       "      <td>NaN</td>\n",
       "      <td>NaN</td>\n",
       "      <td>...</td>\n",
       "      <td>chrome 62.0</td>\n",
       "      <td>NaN</td>\n",
       "      <td>NaN</td>\n",
       "      <td>NaN</td>\n",
       "      <td>F</td>\n",
       "      <td>F</td>\n",
       "      <td>T</td>\n",
       "      <td>T</td>\n",
       "      <td>desktop</td>\n",
       "      <td>NaN</td>\n",
       "    </tr>\n",
       "    <tr>\n",
       "      <th>4</th>\n",
       "      <td>2987016</td>\n",
       "      <td>0.0</td>\n",
       "      <td>7460.0</td>\n",
       "      <td>0.0</td>\n",
       "      <td>0.0</td>\n",
       "      <td>1.0</td>\n",
       "      <td>0.0</td>\n",
       "      <td>NaN</td>\n",
       "      <td>NaN</td>\n",
       "      <td>0.0</td>\n",
       "      <td>...</td>\n",
       "      <td>chrome 62.0</td>\n",
       "      <td>24.0</td>\n",
       "      <td>1280x800</td>\n",
       "      <td>match_status:2</td>\n",
       "      <td>T</td>\n",
       "      <td>F</td>\n",
       "      <td>T</td>\n",
       "      <td>T</td>\n",
       "      <td>desktop</td>\n",
       "      <td>MacOS</td>\n",
       "    </tr>\n",
       "  </tbody>\n",
       "</table>\n",
       "<p>5 rows × 41 columns</p>\n",
       "</div>"
      ],
      "text/plain": [
       "   TransactionID  id_01     id_02  id_03  id_04  id_05  id_06  id_07  id_08  \\\n",
       "0        2987004    0.0   70787.0    NaN    NaN    NaN    NaN    NaN    NaN   \n",
       "1        2987008   -5.0   98945.0    NaN    NaN    0.0   -5.0    NaN    NaN   \n",
       "2        2987010   -5.0  191631.0    0.0    0.0    0.0    0.0    NaN    NaN   \n",
       "3        2987011   -5.0  221832.0    NaN    NaN    0.0   -6.0    NaN    NaN   \n",
       "4        2987016    0.0    7460.0    0.0    0.0    1.0    0.0    NaN    NaN   \n",
       "\n",
       "   id_09  ...                id_31  id_32      id_33           id_34  id_35  \\\n",
       "0    NaN  ...  samsung browser 6.2   32.0  2220x1080  match_status:2      T   \n",
       "1    NaN  ...   mobile safari 11.0   32.0   1334x750  match_status:1      T   \n",
       "2    0.0  ...          chrome 62.0    NaN        NaN             NaN      F   \n",
       "3    NaN  ...          chrome 62.0    NaN        NaN             NaN      F   \n",
       "4    0.0  ...          chrome 62.0   24.0   1280x800  match_status:2      T   \n",
       "\n",
       "  id_36 id_37  id_38  DeviceType                     DeviceInfo  \n",
       "0     F     T      T      mobile  SAMSUNG SM-G892A Build/NRD90M  \n",
       "1     F     F      T      mobile                     iOS Device  \n",
       "2     F     T      T     desktop                        Windows  \n",
       "3     F     T      T     desktop                            NaN  \n",
       "4     F     T      T     desktop                          MacOS  \n",
       "\n",
       "[5 rows x 41 columns]"
      ]
     },
     "execution_count": 120,
     "metadata": {},
     "output_type": "execute_result"
    }
   ],
   "source": [
    "tr_identity.head()"
   ]
  },
  {
   "cell_type": "code",
   "execution_count": 121,
   "id": "e555b0a9",
   "metadata": {
    "scrolled": true
   },
   "outputs": [
    {
     "data": {
      "text/html": [
       "<div>\n",
       "<style scoped>\n",
       "    .dataframe tbody tr th:only-of-type {\n",
       "        vertical-align: middle;\n",
       "    }\n",
       "\n",
       "    .dataframe tbody tr th {\n",
       "        vertical-align: top;\n",
       "    }\n",
       "\n",
       "    .dataframe thead th {\n",
       "        text-align: right;\n",
       "    }\n",
       "</style>\n",
       "<table border=\"1\" class=\"dataframe\">\n",
       "  <thead>\n",
       "    <tr style=\"text-align: right;\">\n",
       "      <th></th>\n",
       "      <th>TransactionID</th>\n",
       "      <th>isFraud</th>\n",
       "      <th>TransactionDT</th>\n",
       "      <th>TransactionAmt</th>\n",
       "      <th>ProductCD</th>\n",
       "      <th>card1</th>\n",
       "      <th>card2</th>\n",
       "      <th>card3</th>\n",
       "      <th>card4</th>\n",
       "      <th>card5</th>\n",
       "      <th>...</th>\n",
       "      <th>V330</th>\n",
       "      <th>V331</th>\n",
       "      <th>V332</th>\n",
       "      <th>V333</th>\n",
       "      <th>V334</th>\n",
       "      <th>V335</th>\n",
       "      <th>V336</th>\n",
       "      <th>V337</th>\n",
       "      <th>V338</th>\n",
       "      <th>V339</th>\n",
       "    </tr>\n",
       "  </thead>\n",
       "  <tbody>\n",
       "    <tr>\n",
       "      <th>0</th>\n",
       "      <td>2987000</td>\n",
       "      <td>0</td>\n",
       "      <td>86400</td>\n",
       "      <td>68.5</td>\n",
       "      <td>W</td>\n",
       "      <td>13926</td>\n",
       "      <td>NaN</td>\n",
       "      <td>150.0</td>\n",
       "      <td>discover</td>\n",
       "      <td>142.0</td>\n",
       "      <td>...</td>\n",
       "      <td>NaN</td>\n",
       "      <td>NaN</td>\n",
       "      <td>NaN</td>\n",
       "      <td>NaN</td>\n",
       "      <td>NaN</td>\n",
       "      <td>NaN</td>\n",
       "      <td>NaN</td>\n",
       "      <td>NaN</td>\n",
       "      <td>NaN</td>\n",
       "      <td>NaN</td>\n",
       "    </tr>\n",
       "    <tr>\n",
       "      <th>1</th>\n",
       "      <td>2987001</td>\n",
       "      <td>0</td>\n",
       "      <td>86401</td>\n",
       "      <td>29.0</td>\n",
       "      <td>W</td>\n",
       "      <td>2755</td>\n",
       "      <td>404.0</td>\n",
       "      <td>150.0</td>\n",
       "      <td>mastercard</td>\n",
       "      <td>102.0</td>\n",
       "      <td>...</td>\n",
       "      <td>NaN</td>\n",
       "      <td>NaN</td>\n",
       "      <td>NaN</td>\n",
       "      <td>NaN</td>\n",
       "      <td>NaN</td>\n",
       "      <td>NaN</td>\n",
       "      <td>NaN</td>\n",
       "      <td>NaN</td>\n",
       "      <td>NaN</td>\n",
       "      <td>NaN</td>\n",
       "    </tr>\n",
       "    <tr>\n",
       "      <th>2</th>\n",
       "      <td>2987002</td>\n",
       "      <td>0</td>\n",
       "      <td>86469</td>\n",
       "      <td>59.0</td>\n",
       "      <td>W</td>\n",
       "      <td>4663</td>\n",
       "      <td>490.0</td>\n",
       "      <td>150.0</td>\n",
       "      <td>visa</td>\n",
       "      <td>166.0</td>\n",
       "      <td>...</td>\n",
       "      <td>NaN</td>\n",
       "      <td>NaN</td>\n",
       "      <td>NaN</td>\n",
       "      <td>NaN</td>\n",
       "      <td>NaN</td>\n",
       "      <td>NaN</td>\n",
       "      <td>NaN</td>\n",
       "      <td>NaN</td>\n",
       "      <td>NaN</td>\n",
       "      <td>NaN</td>\n",
       "    </tr>\n",
       "    <tr>\n",
       "      <th>3</th>\n",
       "      <td>2987003</td>\n",
       "      <td>0</td>\n",
       "      <td>86499</td>\n",
       "      <td>50.0</td>\n",
       "      <td>W</td>\n",
       "      <td>18132</td>\n",
       "      <td>567.0</td>\n",
       "      <td>150.0</td>\n",
       "      <td>mastercard</td>\n",
       "      <td>117.0</td>\n",
       "      <td>...</td>\n",
       "      <td>NaN</td>\n",
       "      <td>NaN</td>\n",
       "      <td>NaN</td>\n",
       "      <td>NaN</td>\n",
       "      <td>NaN</td>\n",
       "      <td>NaN</td>\n",
       "      <td>NaN</td>\n",
       "      <td>NaN</td>\n",
       "      <td>NaN</td>\n",
       "      <td>NaN</td>\n",
       "    </tr>\n",
       "    <tr>\n",
       "      <th>4</th>\n",
       "      <td>2987004</td>\n",
       "      <td>0</td>\n",
       "      <td>86506</td>\n",
       "      <td>50.0</td>\n",
       "      <td>H</td>\n",
       "      <td>4497</td>\n",
       "      <td>514.0</td>\n",
       "      <td>150.0</td>\n",
       "      <td>mastercard</td>\n",
       "      <td>102.0</td>\n",
       "      <td>...</td>\n",
       "      <td>0.0</td>\n",
       "      <td>0.0</td>\n",
       "      <td>0.0</td>\n",
       "      <td>0.0</td>\n",
       "      <td>0.0</td>\n",
       "      <td>0.0</td>\n",
       "      <td>0.0</td>\n",
       "      <td>0.0</td>\n",
       "      <td>0.0</td>\n",
       "      <td>0.0</td>\n",
       "    </tr>\n",
       "  </tbody>\n",
       "</table>\n",
       "<p>5 rows × 394 columns</p>\n",
       "</div>"
      ],
      "text/plain": [
       "   TransactionID  isFraud  TransactionDT  TransactionAmt ProductCD  card1  \\\n",
       "0        2987000        0          86400            68.5         W  13926   \n",
       "1        2987001        0          86401            29.0         W   2755   \n",
       "2        2987002        0          86469            59.0         W   4663   \n",
       "3        2987003        0          86499            50.0         W  18132   \n",
       "4        2987004        0          86506            50.0         H   4497   \n",
       "\n",
       "   card2  card3       card4  card5  ... V330  V331  V332  V333  V334 V335  \\\n",
       "0    NaN  150.0    discover  142.0  ...  NaN   NaN   NaN   NaN   NaN  NaN   \n",
       "1  404.0  150.0  mastercard  102.0  ...  NaN   NaN   NaN   NaN   NaN  NaN   \n",
       "2  490.0  150.0        visa  166.0  ...  NaN   NaN   NaN   NaN   NaN  NaN   \n",
       "3  567.0  150.0  mastercard  117.0  ...  NaN   NaN   NaN   NaN   NaN  NaN   \n",
       "4  514.0  150.0  mastercard  102.0  ...  0.0   0.0   0.0   0.0   0.0  0.0   \n",
       "\n",
       "  V336  V337  V338  V339  \n",
       "0  NaN   NaN   NaN   NaN  \n",
       "1  NaN   NaN   NaN   NaN  \n",
       "2  NaN   NaN   NaN   NaN  \n",
       "3  NaN   NaN   NaN   NaN  \n",
       "4  0.0   0.0   0.0   0.0  \n",
       "\n",
       "[5 rows x 394 columns]"
      ]
     },
     "execution_count": 121,
     "metadata": {},
     "output_type": "execute_result"
    }
   ],
   "source": [
    "tr_transaction.head()"
   ]
  },
  {
   "cell_type": "markdown",
   "id": "a1220c97",
   "metadata": {},
   "source": [
    "Checking shape of transaction and identity table"
   ]
  },
  {
   "cell_type": "code",
   "execution_count": 122,
   "id": "256f2692",
   "metadata": {},
   "outputs": [
    {
     "data": {
      "text/plain": [
       "(144233, 41)"
      ]
     },
     "execution_count": 122,
     "metadata": {},
     "output_type": "execute_result"
    }
   ],
   "source": [
    "tr_identity.shape"
   ]
  },
  {
   "cell_type": "code",
   "execution_count": 123,
   "id": "40fc087b",
   "metadata": {},
   "outputs": [
    {
     "data": {
      "text/plain": [
       "(590540, 394)"
      ]
     },
     "execution_count": 123,
     "metadata": {},
     "output_type": "execute_result"
    }
   ],
   "source": [
    "tr_transaction.shape"
   ]
  },
  {
   "cell_type": "markdown",
   "id": "9ce35082",
   "metadata": {},
   "source": [
    "The Identity data set has 41 columns and 144233 records\n",
    "\n",
    "The transaction data set has 394 columns and 590540 records"
   ]
  },
  {
   "cell_type": "code",
   "execution_count": 124,
   "id": "4433ad3e",
   "metadata": {},
   "outputs": [],
   "source": [
    "# Merging the identity and transaction datasets using the column transaction ID\n",
    "\n",
    "train_set = pd.merge(tr_transaction,tr_identity, on='TransactionID', how='left')"
   ]
  },
  {
   "cell_type": "code",
   "execution_count": 125,
   "id": "ffa8c227",
   "metadata": {},
   "outputs": [
    {
     "data": {
      "text/plain": [
       "(569877, 434)"
      ]
     },
     "execution_count": 125,
     "metadata": {},
     "output_type": "execute_result"
    }
   ],
   "source": [
    "# checking the shape of the combined data set\n",
    "train_set[train_set['isFraud']==0].shape"
   ]
  },
  {
   "cell_type": "code",
   "execution_count": 126,
   "id": "4d629fe6",
   "metadata": {},
   "outputs": [
    {
     "data": {
      "image/png": "[encoded data removed]",
      "text/plain": [
       "<Figure size 432x288 with 1 Axes>"
      ]
     },
     "metadata": {
      "needs_background": "light"
     },
     "output_type": "display_data"
    },
    {
     "name": "stdout",
     "output_type": "stream",
     "text": [
      "The % of good data is 96.50099908558268\n"
     ]
    }
   ],
   "source": [
    "sns.countplot(x='isFraud',data=train_set)\n",
    "plt.show()\n",
    "good_data = train_set[train_set['isFraud']==0].shape[0]/train_set.shape[0]*100\n",
    "print(f'The % of good data is {good_data}')"
   ]
  },
  {
   "cell_type": "code",
   "execution_count": 127,
   "id": "5fdd44d7",
   "metadata": {},
   "outputs": [
    {
     "data": {
      "text/html": [
       "<div>\n",
       "<style scoped>\n",
       "    .dataframe tbody tr th:only-of-type {\n",
       "        vertical-align: middle;\n",
       "    }\n",
       "\n",
       "    .dataframe tbody tr th {\n",
       "        vertical-align: top;\n",
       "    }\n",
       "\n",
       "    .dataframe thead th {\n",
       "        text-align: right;\n",
       "    }\n",
       "</style>\n",
       "<table border=\"1\" class=\"dataframe\">\n",
       "  <thead>\n",
       "    <tr style=\"text-align: right;\">\n",
       "      <th></th>\n",
       "      <th>TransactionID</th>\n",
       "      <th>isFraud</th>\n",
       "      <th>TransactionDT</th>\n",
       "      <th>TransactionAmt</th>\n",
       "      <th>card1</th>\n",
       "      <th>card2</th>\n",
       "      <th>card3</th>\n",
       "      <th>card5</th>\n",
       "      <th>addr1</th>\n",
       "      <th>addr2</th>\n",
       "      <th>...</th>\n",
       "      <th>id_17</th>\n",
       "      <th>id_18</th>\n",
       "      <th>id_19</th>\n",
       "      <th>id_20</th>\n",
       "      <th>id_21</th>\n",
       "      <th>id_22</th>\n",
       "      <th>id_24</th>\n",
       "      <th>id_25</th>\n",
       "      <th>id_26</th>\n",
       "      <th>id_32</th>\n",
       "    </tr>\n",
       "  </thead>\n",
       "  <tbody>\n",
       "    <tr>\n",
       "      <th>count</th>\n",
       "      <td>5.905400e+05</td>\n",
       "      <td>590540.000000</td>\n",
       "      <td>5.905400e+05</td>\n",
       "      <td>590540.000000</td>\n",
       "      <td>590540.000000</td>\n",
       "      <td>581607.000000</td>\n",
       "      <td>588975.000000</td>\n",
       "      <td>586281.000000</td>\n",
       "      <td>524834.000000</td>\n",
       "      <td>524834.000000</td>\n",
       "      <td>...</td>\n",
       "      <td>139369.000000</td>\n",
       "      <td>45113.000000</td>\n",
       "      <td>139318.000000</td>\n",
       "      <td>139261.000000</td>\n",
       "      <td>5159.000000</td>\n",
       "      <td>5169.000000</td>\n",
       "      <td>4747.000000</td>\n",
       "      <td>5132.000000</td>\n",
       "      <td>5163.000000</td>\n",
       "      <td>77586.000000</td>\n",
       "    </tr>\n",
       "    <tr>\n",
       "      <th>mean</th>\n",
       "      <td>3.282270e+06</td>\n",
       "      <td>0.034990</td>\n",
       "      <td>7.372311e+06</td>\n",
       "      <td>135.027176</td>\n",
       "      <td>9898.734658</td>\n",
       "      <td>362.555488</td>\n",
       "      <td>153.194925</td>\n",
       "      <td>199.278897</td>\n",
       "      <td>290.733794</td>\n",
       "      <td>86.800630</td>\n",
       "      <td>...</td>\n",
       "      <td>189.451377</td>\n",
       "      <td>14.237337</td>\n",
       "      <td>353.128174</td>\n",
       "      <td>403.882666</td>\n",
       "      <td>368.269820</td>\n",
       "      <td>16.002708</td>\n",
       "      <td>12.800927</td>\n",
       "      <td>329.608924</td>\n",
       "      <td>149.070308</td>\n",
       "      <td>26.508597</td>\n",
       "    </tr>\n",
       "    <tr>\n",
       "      <th>std</th>\n",
       "      <td>1.704744e+05</td>\n",
       "      <td>0.183755</td>\n",
       "      <td>4.617224e+06</td>\n",
       "      <td>239.162522</td>\n",
       "      <td>4901.170153</td>\n",
       "      <td>157.793246</td>\n",
       "      <td>11.336444</td>\n",
       "      <td>41.244453</td>\n",
       "      <td>101.741072</td>\n",
       "      <td>2.690623</td>\n",
       "      <td>...</td>\n",
       "      <td>30.375360</td>\n",
       "      <td>1.561302</td>\n",
       "      <td>141.095343</td>\n",
       "      <td>152.160327</td>\n",
       "      <td>198.847038</td>\n",
       "      <td>6.897665</td>\n",
       "      <td>2.372447</td>\n",
       "      <td>97.461089</td>\n",
       "      <td>32.101995</td>\n",
       "      <td>3.737502</td>\n",
       "    </tr>\n",
       "    <tr>\n",
       "      <th>min</th>\n",
       "      <td>2.987000e+06</td>\n",
       "      <td>0.000000</td>\n",
       "      <td>8.640000e+04</td>\n",
       "      <td>0.251000</td>\n",
       "      <td>1000.000000</td>\n",
       "      <td>100.000000</td>\n",
       "      <td>100.000000</td>\n",
       "      <td>100.000000</td>\n",
       "      <td>100.000000</td>\n",
       "      <td>10.000000</td>\n",
       "      <td>...</td>\n",
       "      <td>100.000000</td>\n",
       "      <td>10.000000</td>\n",
       "      <td>100.000000</td>\n",
       "      <td>100.000000</td>\n",
       "      <td>100.000000</td>\n",
       "      <td>10.000000</td>\n",
       "      <td>11.000000</td>\n",
       "      <td>100.000000</td>\n",
       "      <td>100.000000</td>\n",
       "      <td>0.000000</td>\n",
       "    </tr>\n",
       "    <tr>\n",
       "      <th>25%</th>\n",
       "      <td>3.134635e+06</td>\n",
       "      <td>0.000000</td>\n",
       "      <td>3.027058e+06</td>\n",
       "      <td>43.321000</td>\n",
       "      <td>6019.000000</td>\n",
       "      <td>214.000000</td>\n",
       "      <td>150.000000</td>\n",
       "      <td>166.000000</td>\n",
       "      <td>204.000000</td>\n",
       "      <td>87.000000</td>\n",
       "      <td>...</td>\n",
       "      <td>166.000000</td>\n",
       "      <td>13.000000</td>\n",
       "      <td>266.000000</td>\n",
       "      <td>256.000000</td>\n",
       "      <td>252.000000</td>\n",
       "      <td>14.000000</td>\n",
       "      <td>11.000000</td>\n",
       "      <td>321.000000</td>\n",
       "      <td>119.000000</td>\n",
       "      <td>24.000000</td>\n",
       "    </tr>\n",
       "    <tr>\n",
       "      <th>50%</th>\n",
       "      <td>3.282270e+06</td>\n",
       "      <td>0.000000</td>\n",
       "      <td>7.306528e+06</td>\n",
       "      <td>68.769000</td>\n",
       "      <td>9678.000000</td>\n",
       "      <td>361.000000</td>\n",
       "      <td>150.000000</td>\n",
       "      <td>226.000000</td>\n",
       "      <td>299.000000</td>\n",
       "      <td>87.000000</td>\n",
       "      <td>...</td>\n",
       "      <td>166.000000</td>\n",
       "      <td>15.000000</td>\n",
       "      <td>341.000000</td>\n",
       "      <td>472.000000</td>\n",
       "      <td>252.000000</td>\n",
       "      <td>14.000000</td>\n",
       "      <td>11.000000</td>\n",
       "      <td>321.000000</td>\n",
       "      <td>149.000000</td>\n",
       "      <td>24.000000</td>\n",
       "    </tr>\n",
       "    <tr>\n",
       "      <th>75%</th>\n",
       "      <td>3.429904e+06</td>\n",
       "      <td>0.000000</td>\n",
       "      <td>1.124662e+07</td>\n",
       "      <td>125.000000</td>\n",
       "      <td>14184.000000</td>\n",
       "      <td>512.000000</td>\n",
       "      <td>150.000000</td>\n",
       "      <td>226.000000</td>\n",
       "      <td>330.000000</td>\n",
       "      <td>87.000000</td>\n",
       "      <td>...</td>\n",
       "      <td>225.000000</td>\n",
       "      <td>15.000000</td>\n",
       "      <td>427.000000</td>\n",
       "      <td>533.000000</td>\n",
       "      <td>486.500000</td>\n",
       "      <td>14.000000</td>\n",
       "      <td>15.000000</td>\n",
       "      <td>371.000000</td>\n",
       "      <td>169.000000</td>\n",
       "      <td>32.000000</td>\n",
       "    </tr>\n",
       "    <tr>\n",
       "      <th>max</th>\n",
       "      <td>3.577539e+06</td>\n",
       "      <td>1.000000</td>\n",
       "      <td>1.581113e+07</td>\n",
       "      <td>31937.391000</td>\n",
       "      <td>18396.000000</td>\n",
       "      <td>600.000000</td>\n",
       "      <td>231.000000</td>\n",
       "      <td>237.000000</td>\n",
       "      <td>540.000000</td>\n",
       "      <td>102.000000</td>\n",
       "      <td>...</td>\n",
       "      <td>229.000000</td>\n",
       "      <td>29.000000</td>\n",
       "      <td>671.000000</td>\n",
       "      <td>661.000000</td>\n",
       "      <td>854.000000</td>\n",
       "      <td>44.000000</td>\n",
       "      <td>26.000000</td>\n",
       "      <td>548.000000</td>\n",
       "      <td>216.000000</td>\n",
       "      <td>32.000000</td>\n",
       "    </tr>\n",
       "  </tbody>\n",
       "</table>\n",
       "<p>8 rows × 403 columns</p>\n",
       "</div>"
      ],
      "text/plain": [
       "       TransactionID        isFraud  TransactionDT  TransactionAmt  \\\n",
       "count   5.905400e+05  590540.000000   5.905400e+05   590540.000000   \n",
       "mean    3.282270e+06       0.034990   7.372311e+06      135.027176   \n",
       "std     1.704744e+05       0.183755   4.617224e+06      239.162522   \n",
       "min     2.987000e+06       0.000000   8.640000e+04        0.251000   \n",
       "25%     3.134635e+06       0.000000   3.027058e+06       43.321000   \n",
       "50%     3.282270e+06       0.000000   7.306528e+06       68.769000   \n",
       "75%     3.429904e+06       0.000000   1.124662e+07      125.000000   \n",
       "max     3.577539e+06       1.000000   1.581113e+07    31937.391000   \n",
       "\n",
       "               card1          card2          card3          card5  \\\n",
       "count  590540.000000  581607.000000  588975.000000  586281.000000   \n",
       "mean     9898.734658     362.555488     153.194925     199.278897   \n",
       "std      4901.170153     157.793246      11.336444      41.244453   \n",
       "min      1000.000000     100.000000     100.000000     100.000000   \n",
       "25%      6019.000000     214.000000     150.000000     166.000000   \n",
       "50%      9678.000000     361.000000     150.000000     226.000000   \n",
       "75%     14184.000000     512.000000     150.000000     226.000000   \n",
       "max     18396.000000     600.000000     231.000000     237.000000   \n",
       "\n",
       "               addr1          addr2  ...          id_17         id_18  \\\n",
       "count  524834.000000  524834.000000  ...  139369.000000  45113.000000   \n",
       "mean      290.733794      86.800630  ...     189.451377     14.237337   \n",
       "std       101.741072       2.690623  ...      30.375360      1.561302   \n",
       "min       100.000000      10.000000  ...     100.000000     10.000000   \n",
       "25%       204.000000      87.000000  ...     166.000000     13.000000   \n",
       "50%       299.000000      87.000000  ...     166.000000     15.000000   \n",
       "75%       330.000000      87.000000  ...     225.000000     15.000000   \n",
       "max       540.000000     102.000000  ...     229.000000     29.000000   \n",
       "\n",
       "               id_19          id_20        id_21        id_22        id_24  \\\n",
       "count  139318.000000  139261.000000  5159.000000  5169.000000  4747.000000   \n",
       "mean      353.128174     403.882666   368.269820    16.002708    12.800927   \n",
       "std       141.095343     152.160327   198.847038     6.897665     2.372447   \n",
       "min       100.000000     100.000000   100.000000    10.000000    11.000000   \n",
       "25%       266.000000     256.000000   252.000000    14.000000    11.000000   \n",
       "50%       341.000000     472.000000   252.000000    14.000000    11.000000   \n",
       "75%       427.000000     533.000000   486.500000    14.000000    15.000000   \n",
       "max       671.000000     661.000000   854.000000    44.000000    26.000000   \n",
       "\n",
       "             id_25        id_26         id_32  \n",
       "count  5132.000000  5163.000000  77586.000000  \n",
       "mean    329.608924   149.070308     26.508597  \n",
       "std      97.461089    32.101995      3.737502  \n",
       "min     100.000000   100.000000      0.000000  \n",
       "25%     321.000000   119.000000     24.000000  \n",
       "50%     321.000000   149.000000     24.000000  \n",
       "75%     371.000000   169.000000     32.000000  \n",
       "max     548.000000   216.000000     32.000000  \n",
       "\n",
       "[8 rows x 403 columns]"
      ]
     },
     "execution_count": 127,
     "metadata": {},
     "output_type": "execute_result"
    }
   ],
   "source": [
    "train_set.describe()"
   ]
  },
  {
   "cell_type": "markdown",
   "id": "5ce660e5",
   "metadata": {},
   "source": [
    "- Description of all the columns of the combined data set"
   ]
  },
  {
   "cell_type": "markdown",
   "id": "3d68eb4f",
   "metadata": {},
   "source": [
    "**Analysis on TransactionDT**"
   ]
  },
  {
   "cell_type": "code",
   "execution_count": 128,
   "id": "cd9f710e",
   "metadata": {},
   "outputs": [
    {
     "data": {
      "text/plain": [
       "count    2.066300e+04\n",
       "mean     7.690033e+06\n",
       "std      4.416551e+06\n",
       "min      8.976000e+04\n",
       "25%      3.965858e+06\n",
       "50%      7.575230e+06\n",
       "75%      1.121743e+07\n",
       "max      1.581088e+07\n",
       "Name: TransactionDT, dtype: float64"
      ]
     },
     "execution_count": 128,
     "metadata": {},
     "output_type": "execute_result"
    }
   ],
   "source": [
    "# Description of fraudulent transaction\n",
    "train_set[train_set['isFraud']==1]['TransactionDT'].describe()"
   ]
  },
  {
   "cell_type": "code",
   "execution_count": 129,
   "id": "e36c84c0",
   "metadata": {},
   "outputs": [
    {
     "data": {
      "text/plain": [
       "count    5.698770e+05\n",
       "mean     7.360791e+06\n",
       "std      4.623930e+06\n",
       "min      8.640000e+04\n",
       "25%      3.010651e+06\n",
       "50%      7.271678e+06\n",
       "75%      1.125334e+07\n",
       "max      1.581113e+07\n",
       "Name: TransactionDT, dtype: float64"
      ]
     },
     "execution_count": 129,
     "metadata": {},
     "output_type": "execute_result"
    }
   ],
   "source": [
    "# Description of non-fraudulent transaction\n",
    "train_set[train_set['isFraud']==0]['TransactionDT'].describe()"
   ]
  },
  {
   "cell_type": "code",
   "execution_count": 130,
   "id": "f4bb75e2",
   "metadata": {},
   "outputs": [
    {
     "data": {
      "image/png": "[encoded data removed]",
      "text/plain": [
       "<Figure size 432x288 with 1 Axes>"
      ]
     },
     "metadata": {
      "needs_background": "light"
     },
     "output_type": "display_data"
    }
   ],
   "source": [
    "# Analysing the distribution of TransactionDT column values\n",
    "train_set['TransactionDT'].hist(grid = False,legend= True,bins = 10)\n",
    "plt.xlabel('TransactionDT')\n",
    "plt.ylabel('Count')\n",
    "plt.show()"
   ]
  },
  {
   "cell_type": "markdown",
   "id": "9d552d35",
   "metadata": {},
   "source": [
    "**Analysis on TransactionAmt**"
   ]
  },
  {
   "cell_type": "code",
   "execution_count": 131,
   "id": "c56f3eca",
   "metadata": {},
   "outputs": [
    {
     "data": {
      "text/plain": [
       "count    569877.000000\n",
       "mean        134.511665\n",
       "std         239.395078\n",
       "min           0.251000\n",
       "25%          43.970000\n",
       "50%          68.500000\n",
       "75%         120.000000\n",
       "max       31937.391000\n",
       "Name: TransactionAmt, dtype: float64"
      ]
     },
     "execution_count": 131,
     "metadata": {},
     "output_type": "execute_result"
    }
   ],
   "source": [
    "# Analysing the transaction Amt column for legit transaction data\n",
    "legit_trx = tr_transaction.loc[tr_transaction['isFraud']==0]\n",
    "legit_trx['TransactionAmt'].describe()"
   ]
  },
  {
   "cell_type": "code",
   "execution_count": 132,
   "id": "0f4f5f35",
   "metadata": {},
   "outputs": [
    {
     "data": {
      "text/plain": [
       "count    20663.000000\n",
       "mean       149.244779\n",
       "std        232.212163\n",
       "min          0.292000\n",
       "25%         35.044000\n",
       "50%         75.000000\n",
       "75%        161.000000\n",
       "max       5191.000000\n",
       "Name: TransactionAmt, dtype: float64"
      ]
     },
     "execution_count": 132,
     "metadata": {},
     "output_type": "execute_result"
    }
   ],
   "source": [
    "# Analysing the transaction Amt column for fraud transaction data\n",
    "fraud_trx = tr_transaction.loc[tr_transaction['isFraud']==1]\n",
    "fraud_trx['TransactionAmt'].describe()"
   ]
  },
  {
   "cell_type": "code",
   "execution_count": 133,
   "id": "6a189646",
   "metadata": {},
   "outputs": [
    {
     "name": "stdout",
     "output_type": "stream",
     "text": [
      "The Average Transaction Amount for legit transaction:  134.51166457896034\n"
     ]
    }
   ],
   "source": [
    "print('The Average Transaction Amount for legit transaction: ', legit_trx['TransactionAmt'].mean())"
   ]
  },
  {
   "cell_type": "code",
   "execution_count": 134,
   "id": "5ceeb1b5",
   "metadata": {},
   "outputs": [
    {
     "name": "stdout",
     "output_type": "stream",
     "text": [
      "The Average Transaction Amount for fraudulent transaction:  149.2447785897534\n"
     ]
    }
   ],
   "source": [
    "print('The Average Transaction Amount for fraudulent transaction: ', fraud_trx['TransactionAmt'].mean())"
   ]
  },
  {
   "cell_type": "code",
   "execution_count": 24,
   "id": "74a964be",
   "metadata": {},
   "outputs": [],
   "source": [
    "#Since some values are high in the dataset lets create a new feature with the log of the data set"
   ]
  },
  {
   "cell_type": "code",
   "execution_count": 135,
   "id": "43f331f1",
   "metadata": {},
   "outputs": [],
   "source": [
    "train_set['LogTransactionAmt'] = np.log(train_set['TransactionAmt'])"
   ]
  },
  {
   "cell_type": "code",
   "execution_count": 136,
   "id": "6573033c",
   "metadata": {},
   "outputs": [
    {
     "name": "stderr",
     "output_type": "stream",
     "text": [
      "/Users/aravindakshanviswanathan/opt/anaconda3/lib/python3.9/site-packages/seaborn/distributions.py:2619: FutureWarning: `distplot` is a deprecated function and will be removed in a future version. Please adapt your code to use either `displot` (a figure-level function with similar flexibility) or `histplot` (an axes-level function for histograms).\n",
      "  warnings.warn(msg, FutureWarning)\n",
      "/Users/aravindakshanviswanathan/opt/anaconda3/lib/python3.9/site-packages/seaborn/distributions.py:2619: FutureWarning: `distplot` is a deprecated function and will be removed in a future version. Please adapt your code to use either `displot` (a figure-level function with similar flexibility) or `histplot` (an axes-level function for histograms).\n",
      "  warnings.warn(msg, FutureWarning)\n"
     ]
    },
    {
     "data": {
      "text/plain": [
       "<matplotlib.legend.Legend at 0x7fc148df9790>"
      ]
     },
     "execution_count": 136,
     "metadata": {},
     "output_type": "execute_result"
    },
    {
     "data": {
      "image/png": "[encoded data removed]",
      "text/plain": [
       "<Figure size 432x288 with 1 Axes>"
      ]
     },
     "metadata": {
      "needs_background": "light"
     },
     "output_type": "display_data"
    }
   ],
   "source": [
    "x = sns.distplot(train_set[train_set['isFraud']==0]['LogTransactionAmt'])\n",
    "y = sns.distplot(train_set[train_set['isFraud']==1]['LogTransactionAmt'])\n",
    "plt.legend(['legit','fraud'])"
   ]
  },
  {
   "cell_type": "markdown",
   "id": "0533e541",
   "metadata": {},
   "source": [
    "- From the figure we can infer that overlap values of fraud and legit is higher after 5 and before 3\n",
    "- The logTransactionAmt from 3 to 5 have higher chance since it is legit transaction."
   ]
  },
  {
   "cell_type": "code",
   "execution_count": 137,
   "id": "4b5f1c23",
   "metadata": {},
   "outputs": [
    {
     "data": {
      "text/plain": [
       "<AxesSubplot:xlabel='TransactionDT', ylabel='TransactionAmt'>"
      ]
     },
     "execution_count": 137,
     "metadata": {},
     "output_type": "execute_result"
    },
    {
     "data": {
      "image/png": "[encoded data removed]",
      "text/plain": [
       "<Figure size 432x288 with 1 Axes>"
      ]
     },
     "metadata": {
      "needs_background": "light"
     },
     "output_type": "display_data"
    }
   ],
   "source": [
    "# check when the fraudulent transaction occured\n",
    "sns.scatterplot(x=\"TransactionDT\",y=\"TransactionAmt\",hue=\"isFraud\",data=train_set)"
   ]
  },
  {
   "cell_type": "markdown",
   "id": "f1685a3e",
   "metadata": {},
   "source": [
    "**Analysis on ProductCD column**"
   ]
  },
  {
   "cell_type": "code",
   "execution_count": 138,
   "id": "f07137ed",
   "metadata": {},
   "outputs": [
    {
     "data": {
      "text/plain": [
       "<AxesSubplot:xlabel='ProductCD', ylabel='percentage'>"
      ]
     },
     "execution_count": 138,
     "metadata": {},
     "output_type": "execute_result"
    },
    {
     "data": {
      "image/png": "[encoded data removed]",
      "text/plain": [
       "<Figure size 432x288 with 1 Axes>"
      ]
     },
     "metadata": {
      "needs_background": "light"
     },
     "output_type": "display_data"
    }
   ],
   "source": [
    "# Grouping the product CD and isFraud column to find the most fradulent transaction that had happened for a specific product\n",
    "\n",
    "train_ProductCD = train_set.groupby(['isFraud'])['ProductCD'].value_counts(normalize=True).rename('percentage').mul(100).reset_index().sort_values('ProductCD')\n",
    "sns.barplot(x=\"ProductCD\", y=\"percentage\", hue=\"isFraud\", data=train_ProductCD)"
   ]
  },
  {
   "cell_type": "markdown",
   "id": "c94ac497",
   "metadata": {},
   "source": [
    "- we can deduce that if the ProductCD is 'C' , there is 40% chance that it is a fraudulent transaction\n",
    "- Likewise for ProductCDs 'H', 'R', 'S' rate of doing fraud is high"
   ]
  },
  {
   "cell_type": "markdown",
   "id": "868e254b",
   "metadata": {},
   "source": [
    "#Analyzing card1 column"
   ]
  },
  {
   "cell_type": "code",
   "execution_count": 139,
   "id": "58648b7c",
   "metadata": {},
   "outputs": [
    {
     "data": {
      "text/plain": [
       "count    590540.000000\n",
       "mean       9898.734658\n",
       "std        4901.170153\n",
       "min        1000.000000\n",
       "25%        6019.000000\n",
       "50%        9678.000000\n",
       "75%       14184.000000\n",
       "max       18396.000000\n",
       "Name: card1, dtype: float64"
      ]
     },
     "execution_count": 139,
     "metadata": {},
     "output_type": "execute_result"
    }
   ],
   "source": [
    "#Finding statistics of card1 column\n",
    "train_set['card1'].describe()"
   ]
  },
  {
   "cell_type": "code",
   "execution_count": 140,
   "id": "3bc667ba",
   "metadata": {},
   "outputs": [
    {
     "name": "stderr",
     "output_type": "stream",
     "text": [
      "/Users/aravindakshanviswanathan/opt/anaconda3/lib/python3.9/site-packages/seaborn/distributions.py:2619: FutureWarning: `distplot` is a deprecated function and will be removed in a future version. Please adapt your code to use either `displot` (a figure-level function with similar flexibility) or `histplot` (an axes-level function for histograms).\n",
      "  warnings.warn(msg, FutureWarning)\n",
      "/Users/aravindakshanviswanathan/opt/anaconda3/lib/python3.9/site-packages/seaborn/distributions.py:2619: FutureWarning: `distplot` is a deprecated function and will be removed in a future version. Please adapt your code to use either `displot` (a figure-level function with similar flexibility) or `histplot` (an axes-level function for histograms).\n",
      "  warnings.warn(msg, FutureWarning)\n"
     ]
    },
    {
     "data": {
      "text/plain": [
       "<matplotlib.legend.Legend at 0x7fc108d7fac0>"
      ]
     },
     "execution_count": 140,
     "metadata": {},
     "output_type": "execute_result"
    },
    {
     "data": {
      "image/png": "[encoded data removed]",
      "text/plain": [
       "<Figure size 432x288 with 1 Axes>"
      ]
     },
     "metadata": {
      "needs_background": "light"
     },
     "output_type": "display_data"
    }
   ],
   "source": [
    "# Analyzing & plotting fraud transactions done on card1\n",
    "\n",
    "x = sns.distplot(train_set[train_set['isFraud']==0]['card1'])\n",
    "y = sns.distplot(train_set[train_set['isFraud']==1]['card1'])\n",
    "plt.legend(['legit','fraud'])"
   ]
  },
  {
   "cell_type": "markdown",
   "id": "9e5deb6e",
   "metadata": {},
   "source": [
    "- The density of fraudulant transactions on card1 is 0.00016 which seems reasonable"
   ]
  },
  {
   "cell_type": "markdown",
   "id": "f6cf98df",
   "metadata": {},
   "source": [
    "# Analysis on card 2 - card 5"
   ]
  },
  {
   "cell_type": "code",
   "execution_count": 141,
   "id": "020553fc",
   "metadata": {},
   "outputs": [
    {
     "data": {
      "text/plain": [
       "count    581607.000000\n",
       "mean        362.555488\n",
       "std         157.793246\n",
       "min         100.000000\n",
       "25%         214.000000\n",
       "50%         361.000000\n",
       "75%         512.000000\n",
       "max         600.000000\n",
       "Name: card2, dtype: float64"
      ]
     },
     "execution_count": 141,
     "metadata": {},
     "output_type": "execute_result"
    }
   ],
   "source": [
    "train_set['card2'].describe()"
   ]
  },
  {
   "cell_type": "code",
   "execution_count": 142,
   "id": "02f08970",
   "metadata": {},
   "outputs": [
    {
     "name": "stderr",
     "output_type": "stream",
     "text": [
      "/Users/aravindakshanviswanathan/opt/anaconda3/lib/python3.9/site-packages/seaborn/distributions.py:2619: FutureWarning: `distplot` is a deprecated function and will be removed in a future version. Please adapt your code to use either `displot` (a figure-level function with similar flexibility) or `histplot` (an axes-level function for histograms).\n",
      "  warnings.warn(msg, FutureWarning)\n",
      "/Users/aravindakshanviswanathan/opt/anaconda3/lib/python3.9/site-packages/seaborn/distributions.py:2619: FutureWarning: `distplot` is a deprecated function and will be removed in a future version. Please adapt your code to use either `displot` (a figure-level function with similar flexibility) or `histplot` (an axes-level function for histograms).\n",
      "  warnings.warn(msg, FutureWarning)\n"
     ]
    },
    {
     "data": {
      "text/plain": [
       "<matplotlib.legend.Legend at 0x7fc030062ca0>"
      ]
     },
     "execution_count": 142,
     "metadata": {},
     "output_type": "execute_result"
    },
    {
     "data": {
      "image/png": "[encoded data removed]",
      "text/plain": [
       "<Figure size 432x288 with 1 Axes>"
      ]
     },
     "metadata": {
      "needs_background": "light"
     },
     "output_type": "display_data"
    }
   ],
   "source": [
    "# Analyzing & plotting fraud transactions done on card2\n",
    "\n",
    "x = sns.distplot(train_set[train_set['isFraud']==0]['card2'])\n",
    "y = sns.distplot(train_set[train_set['isFraud']==1]['card2'])\n",
    "plt.legend(['legit','fraud'])"
   ]
  },
  {
   "cell_type": "code",
   "execution_count": 143,
   "id": "385646c2",
   "metadata": {},
   "outputs": [
    {
     "data": {
      "text/plain": [
       "count    588975.000000\n",
       "mean        153.194925\n",
       "std          11.336444\n",
       "min         100.000000\n",
       "25%         150.000000\n",
       "50%         150.000000\n",
       "75%         150.000000\n",
       "max         231.000000\n",
       "Name: card3, dtype: float64"
      ]
     },
     "execution_count": 143,
     "metadata": {},
     "output_type": "execute_result"
    }
   ],
   "source": [
    "train_set['card3'].describe()"
   ]
  },
  {
   "cell_type": "code",
   "execution_count": 144,
   "id": "1a06e257",
   "metadata": {},
   "outputs": [
    {
     "name": "stderr",
     "output_type": "stream",
     "text": [
      "/Users/aravindakshanviswanathan/opt/anaconda3/lib/python3.9/site-packages/seaborn/distributions.py:2619: FutureWarning: `distplot` is a deprecated function and will be removed in a future version. Please adapt your code to use either `displot` (a figure-level function with similar flexibility) or `histplot` (an axes-level function for histograms).\n",
      "  warnings.warn(msg, FutureWarning)\n",
      "/Users/aravindakshanviswanathan/opt/anaconda3/lib/python3.9/site-packages/seaborn/distributions.py:2619: FutureWarning: `distplot` is a deprecated function and will be removed in a future version. Please adapt your code to use either `displot` (a figure-level function with similar flexibility) or `histplot` (an axes-level function for histograms).\n",
      "  warnings.warn(msg, FutureWarning)\n"
     ]
    },
    {
     "data": {
      "text/plain": [
       "<matplotlib.legend.Legend at 0x7fc0d80bfc10>"
      ]
     },
     "execution_count": 144,
     "metadata": {},
     "output_type": "execute_result"
    },
    {
     "data": {
      "image/png": "[encoded data removed]",
      "text/plain": [
       "<Figure size 432x288 with 1 Axes>"
      ]
     },
     "metadata": {
      "needs_background": "light"
     },
     "output_type": "display_data"
    }
   ],
   "source": [
    "# Analyzing & plotting fraud transactions done on card3\n",
    "\n",
    "x = sns.distplot(train_set[train_set['isFraud']==0]['card3'])\n",
    "y = sns.distplot(train_set[train_set['isFraud']==1]['card3'])\n",
    "plt.legend(['legit','fraud'])"
   ]
  },
  {
   "cell_type": "markdown",
   "id": "875541b7",
   "metadata": {},
   "source": [
    "- Majority of the fraudulant transactions are of 2 values only in card 3.\n"
   ]
  },
  {
   "cell_type": "markdown",
   "id": "766a363a",
   "metadata": {},
   "source": [
    "# Analysis on card 4"
   ]
  },
  {
   "cell_type": "code",
   "execution_count": 146,
   "id": "f911848a",
   "metadata": {},
   "outputs": [
    {
     "data": {
      "text/plain": [
       "<AxesSubplot:xlabel='card4', ylabel='percentage'>"
      ]
     },
     "execution_count": 146,
     "metadata": {},
     "output_type": "execute_result"
    },
    {
     "data": {
      "image/png": "[encoded data removed]",
      "text/plain": [
       "<Figure size 432x288 with 1 Axes>"
      ]
     },
     "metadata": {
      "needs_background": "light"
     },
     "output_type": "display_data"
    }
   ],
   "source": [
    "# Grouping the card4 and isFraud column to find the most fradulent transaction that had happened for a specific card company\n",
    "train_card4 = (train_set[~train_set['card4'].isnull()].groupby(['isFraud'])['card4']\n",
    "                     .value_counts(normalize=True)\n",
    "                     .rename('percentage')\n",
    "                     .mul(100)\n",
    "                     .reset_index()\n",
    "                     .sort_values('card4'))\n",
    "sns.barplot(x=\"card4\", y=\"percentage\", hue=\"isFraud\", data=train_card4)"
   ]
  },
  {
   "cell_type": "markdown",
   "id": "60d6cf27",
   "metadata": {},
   "source": [
    "- The percentage of fraudulant transactions in visa and mastercard are 60% and 30%\n",
    "- Though the percentage of fraud transaction in visa and mastercard may be high, discover has more fraudulant transactions compared to the legit transactions \n",
    "\n"
   ]
  },
  {
   "cell_type": "markdown",
   "id": "5c5765cc",
   "metadata": {},
   "source": [
    "# Analysis on Card 5"
   ]
  },
  {
   "cell_type": "code",
   "execution_count": 36,
   "id": "948c9040",
   "metadata": {},
   "outputs": [
    {
     "data": {
      "text/plain": [
       "count    586281.0\n",
       "mean          NaN\n",
       "std           0.0\n",
       "min         100.0\n",
       "25%         166.0\n",
       "50%         226.0\n",
       "75%         226.0\n",
       "max         237.0\n",
       "Name: card5, dtype: float64"
      ]
     },
     "execution_count": 36,
     "metadata": {},
     "output_type": "execute_result"
    }
   ],
   "source": [
    "train_set['card5'].describe()"
   ]
  },
  {
   "cell_type": "code",
   "execution_count": 37,
   "id": "06fb63de",
   "metadata": {},
   "outputs": [
    {
     "name": "stderr",
     "output_type": "stream",
     "text": [
      "/Users/aravindakshanviswanathan/opt/anaconda3/lib/python3.9/site-packages/seaborn/distributions.py:2619: FutureWarning: `distplot` is a deprecated function and will be removed in a future version. Please adapt your code to use either `displot` (a figure-level function with similar flexibility) or `histplot` (an axes-level function for histograms).\n",
      "  warnings.warn(msg, FutureWarning)\n",
      "/Users/aravindakshanviswanathan/opt/anaconda3/lib/python3.9/site-packages/seaborn/distributions.py:2619: FutureWarning: `distplot` is a deprecated function and will be removed in a future version. Please adapt your code to use either `displot` (a figure-level function with similar flexibility) or `histplot` (an axes-level function for histograms).\n",
      "  warnings.warn(msg, FutureWarning)\n"
     ]
    },
    {
     "data": {
      "text/plain": [
       "<matplotlib.legend.Legend at 0x7fc1185e6a60>"
      ]
     },
     "execution_count": 37,
     "metadata": {},
     "output_type": "execute_result"
    },
    {
     "data": {
      "image/png": "[encoded data removed]",
      "text/plain": [
       "<Figure size 432x288 with 1 Axes>"
      ]
     },
     "metadata": {
      "needs_background": "light"
     },
     "output_type": "display_data"
    }
   ],
   "source": [
    "# Analyzing & plotting fraud transactions done on card3\n",
    "\n",
    "x = sns.distplot(train_set[train_set['isFraud']==0]['card5'])\n",
    "y = sns.distplot(train_set[train_set['isFraud']==1]['card5'])\n",
    "plt.legend(['legit','fraud'])"
   ]
  },
  {
   "cell_type": "markdown",
   "id": "b0ca7439",
   "metadata": {},
   "source": [
    "- At some intervals there is high chance for fraud for example at 225. \n",
    "- Likewise, the legit transaction happen most at 160\n"
   ]
  },
  {
   "cell_type": "markdown",
   "id": "a41b4c58",
   "metadata": {},
   "source": [
    "# Analysis on card 6"
   ]
  },
  {
   "cell_type": "code",
   "execution_count": 147,
   "id": "35acd7ff",
   "metadata": {},
   "outputs": [
    {
     "data": {
      "text/plain": [
       "<AxesSubplot:xlabel='card6', ylabel='percentage'>"
      ]
     },
     "execution_count": 147,
     "metadata": {},
     "output_type": "execute_result"
    },
    {
     "data": {
      "image/png": "[encoded data removed]",
      "text/plain": [
       "<Figure size 432x288 with 1 Axes>"
      ]
     },
     "metadata": {
      "needs_background": "light"
     },
     "output_type": "display_data"
    }
   ],
   "source": [
    "# Grouping the card6 and isFraud column to find the most fradulent transaction that had happened for a specific card type\n",
    "train_card6 = (train_set[~train_set['card6'].isnull()].groupby(['isFraud'])['card6']\n",
    "                     .value_counts(normalize=True)\n",
    "                     .rename('percentage')\n",
    "                     .mul(100)\n",
    "                     .reset_index()\n",
    "                     .sort_values('card6'))\n",
    "sns.barplot(x=\"card6\", y=\"percentage\", hue=\"isFraud\", data=train_card6)"
   ]
  },
  {
   "cell_type": "markdown",
   "id": "8b3a85f4",
   "metadata": {},
   "source": [
    "- credit card holders are prone to more fraudulent transactions than debit card holders\n",
    "- charge card and debit or credit cards have no affect on the data set so lets replace them into one."
   ]
  },
  {
   "cell_type": "code",
   "execution_count": 148,
   "id": "0285d9a7",
   "metadata": {},
   "outputs": [],
   "source": [
    "def replaceToStd(value):\n",
    "    if value==np.nan:\n",
    "        return value\n",
    "    if value=='debit or credit' or value=='charge card':\n",
    "        return 'debit'\n",
    "    else:\n",
    "        return value\n",
    "train_set['card6'] = train_set['card6'].apply(replaceToStd)"
   ]
  },
  {
   "cell_type": "markdown",
   "id": "c41f3f4d",
   "metadata": {},
   "source": [
    "# Analysis of address columns"
   ]
  },
  {
   "cell_type": "markdown",
   "id": "f3868a32",
   "metadata": {},
   "source": [
    "- address 1 is the purchaser zip code\n",
    "- address 2 is the billing country"
   ]
  },
  {
   "cell_type": "code",
   "execution_count": 149,
   "id": "f5348fa7",
   "metadata": {},
   "outputs": [
    {
     "data": {
      "text/plain": [
       "count    524834.000000\n",
       "mean        290.733794\n",
       "std         101.741072\n",
       "min         100.000000\n",
       "25%         204.000000\n",
       "50%         299.000000\n",
       "75%         330.000000\n",
       "max         540.000000\n",
       "Name: addr1, dtype: float64"
      ]
     },
     "execution_count": 149,
     "metadata": {},
     "output_type": "execute_result"
    }
   ],
   "source": [
    "train_set['addr1'].describe()"
   ]
  },
  {
   "cell_type": "code",
   "execution_count": 150,
   "id": "aed986bc",
   "metadata": {},
   "outputs": [
    {
     "name": "stderr",
     "output_type": "stream",
     "text": [
      "/Users/aravindakshanviswanathan/opt/anaconda3/lib/python3.9/site-packages/seaborn/distributions.py:2619: FutureWarning: `distplot` is a deprecated function and will be removed in a future version. Please adapt your code to use either `displot` (a figure-level function with similar flexibility) or `histplot` (an axes-level function for histograms).\n",
      "  warnings.warn(msg, FutureWarning)\n",
      "/Users/aravindakshanviswanathan/opt/anaconda3/lib/python3.9/site-packages/seaborn/distributions.py:2619: FutureWarning: `distplot` is a deprecated function and will be removed in a future version. Please adapt your code to use either `displot` (a figure-level function with similar flexibility) or `histplot` (an axes-level function for histograms).\n",
      "  warnings.warn(msg, FutureWarning)\n"
     ]
    },
    {
     "data": {
      "text/plain": [
       "<matplotlib.legend.Legend at 0x7fc13eecca30>"
      ]
     },
     "execution_count": 150,
     "metadata": {},
     "output_type": "execute_result"
    },
    {
     "data": {
      "image/png": "[encoded data removed]",
      "text/plain": [
       "<Figure size 432x288 with 1 Axes>"
      ]
     },
     "metadata": {
      "needs_background": "light"
     },
     "output_type": "display_data"
    }
   ],
   "source": [
    "# Analyzing & plotting fraudulant transactions based on address column in the data set\n",
    "x = sns.distplot(train_set[(train_set['isFraud']==0) & (~train_set['addr1'].isnull())]['addr1'])\n",
    "y = sns.distplot(train_set[(train_set['isFraud']==1) & (~train_set['addr1'].isnull())]['addr1'])\n",
    "plt.legend(['Legit','Fraud'])"
   ]
  },
  {
   "cell_type": "code",
   "execution_count": 151,
   "id": "9b355a31",
   "metadata": {},
   "outputs": [
    {
     "data": {
      "text/plain": [
       "count    524834.000000\n",
       "mean         86.800630\n",
       "std           2.690623\n",
       "min          10.000000\n",
       "25%          87.000000\n",
       "50%          87.000000\n",
       "75%          87.000000\n",
       "max         102.000000\n",
       "Name: addr2, dtype: float64"
      ]
     },
     "execution_count": 151,
     "metadata": {},
     "output_type": "execute_result"
    }
   ],
   "source": [
    "# Similarily for address 2 \n",
    "train_set['addr2'].describe()"
   ]
  },
  {
   "cell_type": "code",
   "execution_count": 152,
   "id": "96313e53",
   "metadata": {},
   "outputs": [
    {
     "name": "stderr",
     "output_type": "stream",
     "text": [
      "/Users/aravindakshanviswanathan/opt/anaconda3/lib/python3.9/site-packages/seaborn/distributions.py:2619: FutureWarning: `distplot` is a deprecated function and will be removed in a future version. Please adapt your code to use either `displot` (a figure-level function with similar flexibility) or `histplot` (an axes-level function for histograms).\n",
      "  warnings.warn(msg, FutureWarning)\n",
      "/Users/aravindakshanviswanathan/opt/anaconda3/lib/python3.9/site-packages/seaborn/distributions.py:2619: FutureWarning: `distplot` is a deprecated function and will be removed in a future version. Please adapt your code to use either `displot` (a figure-level function with similar flexibility) or `histplot` (an axes-level function for histograms).\n",
      "  warnings.warn(msg, FutureWarning)\n"
     ]
    },
    {
     "data": {
      "text/plain": [
       "<matplotlib.legend.Legend at 0x7fc1099171f0>"
      ]
     },
     "execution_count": 152,
     "metadata": {},
     "output_type": "execute_result"
    },
    {
     "data": {
      "image/png": "[encoded data removed]",
      "text/plain": [
       "<Figure size 432x288 with 1 Axes>"
      ]
     },
     "metadata": {
      "needs_background": "light"
     },
     "output_type": "display_data"
    }
   ],
   "source": [
    "# plotting fraudulant transactions based on address column in data set\n",
    "x = sns.distplot(train_set[(train_set['isFraud']==0) & (~train_set['addr2'].isnull())]['addr2'])\n",
    "y = sns.distplot(train_set[(train_set['isFraud']==1) & (~train_set['addr2'].isnull())]['addr2'])\n",
    "plt.legend(['Legit','Fraud'])"
   ]
  },
  {
   "cell_type": "markdown",
   "id": "cbc72e4d",
   "metadata": {},
   "source": [
    "- Most of the data is from 80-100 which means that most of the data is from a particular country. \n",
    "- Now lets check whether this is true or not"
   ]
  },
  {
   "cell_type": "code",
   "execution_count": 153,
   "id": "e9db1bb3",
   "metadata": {
    "scrolled": true
   },
   "outputs": [
    {
     "data": {
      "text/plain": [
       "87.0    520481\n",
       "60.0      3084\n",
       "96.0       638\n",
       "32.0        91\n",
       "65.0        82\n",
       "         ...  \n",
       "49.0         1\n",
       "14.0         1\n",
       "25.0         1\n",
       "22.0         1\n",
       "93.0         1\n",
       "Name: addr2, Length: 74, dtype: int64"
      ]
     },
     "execution_count": 153,
     "metadata": {},
     "output_type": "execute_result"
    }
   ],
   "source": [
    "train_set['addr2'].value_counts()"
   ]
  },
  {
   "cell_type": "code",
   "execution_count": 154,
   "id": "b1567032",
   "metadata": {},
   "outputs": [
    {
     "name": "stdout",
     "output_type": "stream",
     "text": [
      "Country with code 87 has  88.14 % of total data\n"
     ]
    }
   ],
   "source": [
    "# Country with code 87 has majority of the data\n",
    "print('Country with code 87 has ',round(520481/train_set.shape[0]*100,2), '% of total data')"
   ]
  },
  {
   "cell_type": "markdown",
   "id": "94f583b9",
   "metadata": {},
   "source": [
    "- As you can see more than half a million values are from a country with code 87, which seems interesting."
   ]
  },
  {
   "cell_type": "markdown",
   "id": "8c557bb8",
   "metadata": {},
   "source": [
    "# Analysis for P_emaildomain and R_emaildomain"
   ]
  },
  {
   "cell_type": "code",
   "execution_count": 155,
   "id": "e17ba6ca",
   "metadata": {},
   "outputs": [
    {
     "data": {
      "text/plain": [
       "gmail.com           228355\n",
       "yahoo.com           100934\n",
       "hotmail.com          45250\n",
       "anonymous.com        36998\n",
       "aol.com              28289\n",
       "comcast.net           7888\n",
       "icloud.com            6267\n",
       "outlook.com           5096\n",
       "msn.com               4092\n",
       "att.net               4033\n",
       "live.com              3041\n",
       "sbcglobal.net         2970\n",
       "verizon.net           2705\n",
       "ymail.com             2396\n",
       "bellsouth.net         1909\n",
       "yahoo.com.mx          1543\n",
       "me.com                1522\n",
       "cox.net               1393\n",
       "optonline.net         1011\n",
       "charter.net            816\n",
       "live.com.mx            749\n",
       "rocketmail.com         664\n",
       "mail.com               559\n",
       "earthlink.net          514\n",
       "gmail                  496\n",
       "outlook.es             438\n",
       "mac.com                436\n",
       "juno.com               322\n",
       "aim.com                315\n",
       "hotmail.es             305\n",
       "roadrunner.com         305\n",
       "windstream.net         305\n",
       "hotmail.fr             295\n",
       "frontier.com           280\n",
       "embarqmail.com         260\n",
       "web.de                 240\n",
       "netzero.com            230\n",
       "twc.com                230\n",
       "prodigy.net.mx         207\n",
       "centurylink.net        205\n",
       "netzero.net            196\n",
       "frontiernet.net        195\n",
       "q.com                  189\n",
       "suddenlink.net         175\n",
       "cfl.rr.com             172\n",
       "sc.rr.com              164\n",
       "cableone.net           159\n",
       "gmx.de                 149\n",
       "yahoo.fr               143\n",
       "yahoo.es               134\n",
       "hotmail.co.uk          112\n",
       "protonmail.com          76\n",
       "yahoo.de                74\n",
       "ptd.net                 68\n",
       "live.fr                 56\n",
       "yahoo.co.uk             49\n",
       "hotmail.de              43\n",
       "servicios-ta.com        35\n",
       "yahoo.co.jp             32\n",
       "Name: P_emaildomain, dtype: int64"
      ]
     },
     "execution_count": 155,
     "metadata": {},
     "output_type": "execute_result"
    }
   ],
   "source": [
    "# Calculating the count of each domain in the data sets\n",
    "train_set['P_emaildomain'].value_counts()"
   ]
  },
  {
   "cell_type": "markdown",
   "id": "893272e0",
   "metadata": {},
   "source": [
    "- From the results, we can see that the emails have been received from different domains, so lets find out which domain has suffered from most fraudulant transactions\n",
    "- Also the Gmail , Yahoo and Hotmail are the mostly used emails in the dataset\n"
   ]
  },
  {
   "cell_type": "code",
   "execution_count": 156,
   "id": "960ff0b3",
   "metadata": {},
   "outputs": [],
   "source": [
    "# Here we are splitting the domain name from the (.) and taking the name out\n",
    "\n",
    "def returndomainname(email):\n",
    "    return email.split(\".\")[0]\n",
    "train_set['domain_name'] = train_set[~train_set['P_emaildomain'].isnull()]['P_emaildomain'].apply(returndomainname)"
   ]
  },
  {
   "cell_type": "code",
   "execution_count": 157,
   "id": "94409fe2",
   "metadata": {},
   "outputs": [
    {
     "data": {
      "text/plain": [
       "array([nan, 'gmail', 'outlook', 'yahoo', 'mail', 'anonymous', 'hotmail',\n",
       "       'verizon', 'aol', 'me', 'comcast', 'optonline', 'cox', 'charter',\n",
       "       'rocketmail', 'prodigy', 'embarqmail', 'icloud', 'live', 'att',\n",
       "       'juno', 'ymail', 'sbcglobal', 'bellsouth', 'msn', 'q',\n",
       "       'centurylink', 'servicios-ta', 'earthlink', 'cfl', 'roadrunner',\n",
       "       'netzero', 'gmx', 'suddenlink', 'frontiernet', 'windstream',\n",
       "       'frontier', 'mac', 'aim', 'web', 'twc', 'cableone', 'sc', 'ptd',\n",
       "       'protonmail'], dtype=object)"
      ]
     },
     "execution_count": 157,
     "metadata": {},
     "output_type": "execute_result"
    }
   ],
   "source": [
    "#checking the different set of domains in the dataset\n",
    "train_set['domain_name'].unique()"
   ]
  },
  {
   "cell_type": "code",
   "execution_count": 158,
   "id": "043dd572",
   "metadata": {},
   "outputs": [],
   "source": [
    "# Grouping domain_name and isFraud to check if the transaction is fraudulent data or not\n",
    "train_email = (train_set.groupby(['isFraud'])['domain_name']\n",
    "                     .value_counts(normalize=True)\n",
    "                     .rename('percentage')\n",
    "                     .mul(100)\n",
    "                     .reset_index()\n",
    "                     .sort_values('domain_name'))"
   ]
  },
  {
   "cell_type": "code",
   "execution_count": 159,
   "id": "042688fa",
   "metadata": {},
   "outputs": [
    {
     "data": {
      "text/plain": [
       "(array([ 0,  1,  2,  3,  4,  5,  6,  7,  8,  9, 10, 11, 12, 13, 14, 15, 16,\n",
       "        17, 18, 19, 20, 21, 22, 23, 24, 25, 26, 27, 28, 29, 30, 31, 32, 33,\n",
       "        34, 35, 36, 37, 38, 39, 40, 41, 42, 43]),\n",
       " [Text(0, 0, 'aim'),\n",
       "  Text(1, 0, 'anonymous'),\n",
       "  Text(2, 0, 'aol'),\n",
       "  Text(3, 0, 'att'),\n",
       "  Text(4, 0, 'bellsouth'),\n",
       "  Text(5, 0, 'cableone'),\n",
       "  Text(6, 0, 'centurylink'),\n",
       "  Text(7, 0, 'cfl'),\n",
       "  Text(8, 0, 'charter'),\n",
       "  Text(9, 0, 'comcast'),\n",
       "  Text(10, 0, 'cox'),\n",
       "  Text(11, 0, 'earthlink'),\n",
       "  Text(12, 0, 'embarqmail'),\n",
       "  Text(13, 0, 'frontier'),\n",
       "  Text(14, 0, 'frontiernet'),\n",
       "  Text(15, 0, 'gmail'),\n",
       "  Text(16, 0, 'gmx'),\n",
       "  Text(17, 0, 'hotmail'),\n",
       "  Text(18, 0, 'icloud'),\n",
       "  Text(19, 0, 'juno'),\n",
       "  Text(20, 0, 'live'),\n",
       "  Text(21, 0, 'mac'),\n",
       "  Text(22, 0, 'mail'),\n",
       "  Text(23, 0, 'me'),\n",
       "  Text(24, 0, 'msn'),\n",
       "  Text(25, 0, 'netzero'),\n",
       "  Text(26, 0, 'optonline'),\n",
       "  Text(27, 0, 'outlook'),\n",
       "  Text(28, 0, 'prodigy'),\n",
       "  Text(29, 0, 'protonmail'),\n",
       "  Text(30, 0, 'ptd'),\n",
       "  Text(31, 0, 'q'),\n",
       "  Text(32, 0, 'roadrunner'),\n",
       "  Text(33, 0, 'rocketmail'),\n",
       "  Text(34, 0, 'sbcglobal'),\n",
       "  Text(35, 0, 'sc'),\n",
       "  Text(36, 0, 'servicios-ta'),\n",
       "  Text(37, 0, 'suddenlink'),\n",
       "  Text(38, 0, 'twc'),\n",
       "  Text(39, 0, 'verizon'),\n",
       "  Text(40, 0, 'web'),\n",
       "  Text(41, 0, 'windstream'),\n",
       "  Text(42, 0, 'yahoo'),\n",
       "  Text(43, 0, 'ymail')])"
      ]
     },
     "execution_count": 159,
     "metadata": {},
     "output_type": "execute_result"
    },
    {
     "data": {
      "image/png": "[encoded data removed]",
      "text/plain": [
       "<Figure size 432x288 with 1 Axes>"
      ]
     },
     "metadata": {
      "needs_background": "light"
     },
     "output_type": "display_data"
    }
   ],
   "source": [
    "# xticks function : Get or set the current tick locations and labels of the x-axis\n",
    "sns.barplot(x=\"domain_name\", y=\"percentage\", hue=\"isFraud\", data=train_email)\n",
    "plt.xticks(rotation = 90)"
   ]
  },
  {
   "cell_type": "markdown",
   "id": "1dad790d",
   "metadata": {},
   "source": [
    "- Based on the above graph, we can say that most of the data has email from gmail domain which is fair to say also has more fraud transactions. \n",
    "- Also, Hotmail is the only domain which has more fraud transactions than legit transactions. "
   ]
  },
  {
   "cell_type": "markdown",
   "id": "d5c6a5a0",
   "metadata": {},
   "source": [
    "**Analysis for C1 - C14 columns**"
   ]
  },
  {
   "cell_type": "markdown",
   "id": "1312955e",
   "metadata": {},
   "source": [
    "Instead of utilizing the same describe function for all the C features, we are using the correlation matrix to find the relationship between them."
   ]
  },
  {
   "cell_type": "code",
   "execution_count": 160,
   "id": "df325acd",
   "metadata": {},
   "outputs": [],
   "source": [
    "corr_c = train_set[['C1','C2','C3','C4','C5','C6','C7','C8','C9','C10','C11','C12','C13','C14','isFraud']]"
   ]
  },
  {
   "cell_type": "code",
   "execution_count": 161,
   "id": "6aefc861",
   "metadata": {},
   "outputs": [],
   "source": [
    "# Finding the correlation between columns using the corr() function\n",
    "\n",
    "cr = corr_c.corr()"
   ]
  },
  {
   "cell_type": "code",
   "execution_count": 162,
   "id": "070f0158",
   "metadata": {
    "scrolled": false
   },
   "outputs": [
    {
     "name": "stderr",
     "output_type": "stream",
     "text": [
      "/var/folders/62/58h24g5d0qq8lz19bvl398mm0000gn/T/ipykernel_12741/1749009934.py:4: UserWarning: Only one segment is calculated since parameter NFFT (=149) >= signal length (=15).\n",
      "  plt.specgram(cr,NFFT = 149)\n"
     ]
    },
    {
     "data": {
      "image/png": "[encoded data removed]",
      "text/plain": [
       "<Figure size 720x720 with 1 Axes>"
      ]
     },
     "metadata": {
      "needs_background": "light"
     },
     "output_type": "display_data"
    }
   ],
   "source": [
    "# Analyzing & Plotting the correlation between the C1 column series and the isFraud column\n",
    "\n",
    "plt.figure(1,figsize=(10,10))\n",
    "plt.specgram(cr,NFFT = 149)\n",
    "plt.show()"
   ]
  },
  {
   "cell_type": "markdown",
   "id": "db44a5bd",
   "metadata": {},
   "source": [
    "- We have used specgram to visualize the features of various C columns"
   ]
  },
  {
   "cell_type": "markdown",
   "id": "150b2f28",
   "metadata": {},
   "source": [
    "**Analysis for D features i.e., D1 to D15**\n",
    "\n",
    "- Likewise for C features we will be using correlation matrix for D features"
   ]
  },
  {
   "cell_type": "code",
   "execution_count": 163,
   "id": "5f780f82",
   "metadata": {},
   "outputs": [],
   "source": [
    "#finding the corelation between these D with 'isFraud' column\n",
    "corr_d = train_set[['D1','D2','D3','D4','D5','D6','D7','D8','D9','D10','D11','D12','D13','D14','D15','isFraud']]"
   ]
  },
  {
   "cell_type": "code",
   "execution_count": 164,
   "id": "d8b7fb5a",
   "metadata": {},
   "outputs": [],
   "source": [
    "cr1 = corr_d.corr()"
   ]
  },
  {
   "cell_type": "code",
   "execution_count": 165,
   "id": "03afc594",
   "metadata": {},
   "outputs": [
    {
     "data": {
      "text/plain": [
       "<AxesSubplot:>"
      ]
     },
     "execution_count": 165,
     "metadata": {},
     "output_type": "execute_result"
    },
    {
     "data": {
      "image/png": "[encoded data removed]",
      "text/plain": [
       "<Figure size 720x720 with 2 Axes>"
      ]
     },
     "metadata": {
      "needs_background": "light"
     },
     "output_type": "display_data"
    }
   ],
   "source": [
    "plt.figure(1,figsize=(10,10))\n",
    "sns.heatmap(cr1,annot=True)"
   ]
  },
  {
   "cell_type": "markdown",
   "id": "00156f55",
   "metadata": {},
   "source": [
    "- Highly correlated features are  'D4 and D12' and 'D6 and D12' and 'D5 and D7'"
   ]
  },
  {
   "cell_type": "markdown",
   "id": "6ba48bf8",
   "metadata": {},
   "source": [
    "**Data Analysis for M features**"
   ]
  },
  {
   "cell_type": "code",
   "execution_count": 166,
   "id": "af68a2e7",
   "metadata": {
    "scrolled": false
   },
   "outputs": [
    {
     "name": "stdout",
     "output_type": "stream",
     "text": [
      "T    313073\n",
      "F        25\n",
      "Name: M1, dtype: int64\n",
      "T    6342\n",
      "Name: M1, dtype: int64\n",
      "\n",
      "\n",
      "\n",
      "T    280310\n",
      "F     32788\n",
      "Name: M2, dtype: int64\n",
      "T    5158\n",
      "F    1184\n",
      "Name: M2, dtype: int64\n",
      "\n",
      "\n",
      "\n",
      "T    247438\n",
      "F     65660\n",
      "Name: M3, dtype: int64\n",
      "T    4293\n",
      "F    2049\n",
      "Name: M3, dtype: int64\n",
      "\n",
      "\n",
      "\n",
      "M0    189207\n",
      "M2     53056\n",
      "M1     51397\n",
      "Name: M4, dtype: int64\n",
      "M0    7198\n",
      "M2    6809\n",
      "M1    1429\n",
      "Name: M4, dtype: int64\n",
      "\n",
      "\n",
      "\n",
      "F    128977\n",
      "T    103512\n",
      "Name: M5, dtype: int64\n",
      "T    4055\n",
      "F    3514\n",
      "Name: M5, dtype: int64\n",
      "\n",
      "\n",
      "\n",
      "F    222459\n",
      "T    190029\n",
      "Name: M6, dtype: int64\n",
      "F    5397\n",
      "T    3295\n",
      "Name: M6, dtype: int64\n",
      "\n",
      "\n",
      "\n",
      "F    207285\n",
      "T     32173\n",
      "Name: M7, dtype: int64\n",
      "F    4089\n",
      "T     728\n",
      "Name: M7, dtype: int64\n",
      "\n",
      "\n",
      "\n",
      "F    151878\n",
      "T     87593\n",
      "Name: M8, dtype: int64\n",
      "F    3373\n",
      "T    1444\n",
      "Name: M8, dtype: int64\n",
      "\n",
      "\n",
      "\n",
      "T    201998\n",
      "F     37473\n",
      "Name: M9, dtype: int64\n",
      "T    3658\n",
      "F    1159\n",
      "Name: M9, dtype: int64\n",
      "\n",
      "\n",
      "\n"
     ]
    }
   ],
   "source": [
    "# Finding out the unique values in each of the 'M' series of columns\n",
    "for i in ['M1','M2','M3','M4','M5','M6','M7','M8','M9']:\n",
    "    print(train_set[(~train_set[i].isnull())&(train_set['isFraud']==0)][i].value_counts())\n",
    "    print(train_set[(~train_set[i].isnull())&(train_set['isFraud']==1)][i].value_counts())\n",
    "    print('\\n\\n')"
   ]
  },
  {
   "cell_type": "markdown",
   "id": "c688b3e1",
   "metadata": {},
   "source": [
    "\n",
    "- Most of the M features are binary distributed i.e., 0 and 1 \n",
    "- Except M4 feature which has 3 unique values, M0, M1, M2"
   ]
  },
  {
   "cell_type": "markdown",
   "id": "9449174a",
   "metadata": {},
   "source": [
    "**Data Analysis on V features**\n",
    "\n",
    "- In the transaction data set we have 339 V features. We cannot visualize them one by one.\n",
    "- First we'll seperate V features and then see what can we find out."
   ]
  },
  {
   "cell_type": "code",
   "execution_count": 168,
   "id": "316b8ad5",
   "metadata": {},
   "outputs": [],
   "source": [
    "# seperating vfeatures from rest of the features. \n",
    "v_features = []\n",
    "for i in train_set.columns:\n",
    "    if 'V' in i:\n",
    "        v_features.append(i)"
   ]
  },
  {
   "cell_type": "code",
   "execution_count": 169,
   "id": "2b139aa0",
   "metadata": {},
   "outputs": [],
   "source": [
    "# creating a data frame of v features.\n",
    "v_features_df = tr_transaction[v_features]"
   ]
  },
  {
   "cell_type": "code",
   "execution_count": 170,
   "id": "75822619",
   "metadata": {},
   "outputs": [
    {
     "data": {
      "text/html": [
       "<div>\n",
       "<style scoped>\n",
       "    .dataframe tbody tr th:only-of-type {\n",
       "        vertical-align: middle;\n",
       "    }\n",
       "\n",
       "    .dataframe tbody tr th {\n",
       "        vertical-align: top;\n",
       "    }\n",
       "\n",
       "    .dataframe thead th {\n",
       "        text-align: right;\n",
       "    }\n",
       "</style>\n",
       "<table border=\"1\" class=\"dataframe\">\n",
       "  <thead>\n",
       "    <tr style=\"text-align: right;\">\n",
       "      <th></th>\n",
       "      <th>V1</th>\n",
       "      <th>V2</th>\n",
       "      <th>V3</th>\n",
       "      <th>V4</th>\n",
       "      <th>V5</th>\n",
       "      <th>V6</th>\n",
       "      <th>V7</th>\n",
       "      <th>V8</th>\n",
       "      <th>V9</th>\n",
       "      <th>V10</th>\n",
       "      <th>...</th>\n",
       "      <th>V330</th>\n",
       "      <th>V331</th>\n",
       "      <th>V332</th>\n",
       "      <th>V333</th>\n",
       "      <th>V334</th>\n",
       "      <th>V335</th>\n",
       "      <th>V336</th>\n",
       "      <th>V337</th>\n",
       "      <th>V338</th>\n",
       "      <th>V339</th>\n",
       "    </tr>\n",
       "  </thead>\n",
       "  <tbody>\n",
       "    <tr>\n",
       "      <th>0</th>\n",
       "      <td>1.0</td>\n",
       "      <td>1.0</td>\n",
       "      <td>1.0</td>\n",
       "      <td>1.0</td>\n",
       "      <td>1.0</td>\n",
       "      <td>1.0</td>\n",
       "      <td>1.0</td>\n",
       "      <td>1.0</td>\n",
       "      <td>1.0</td>\n",
       "      <td>0.0</td>\n",
       "      <td>...</td>\n",
       "      <td>NaN</td>\n",
       "      <td>NaN</td>\n",
       "      <td>NaN</td>\n",
       "      <td>NaN</td>\n",
       "      <td>NaN</td>\n",
       "      <td>NaN</td>\n",
       "      <td>NaN</td>\n",
       "      <td>NaN</td>\n",
       "      <td>NaN</td>\n",
       "      <td>NaN</td>\n",
       "    </tr>\n",
       "    <tr>\n",
       "      <th>1</th>\n",
       "      <td>NaN</td>\n",
       "      <td>NaN</td>\n",
       "      <td>NaN</td>\n",
       "      <td>NaN</td>\n",
       "      <td>NaN</td>\n",
       "      <td>NaN</td>\n",
       "      <td>NaN</td>\n",
       "      <td>NaN</td>\n",
       "      <td>NaN</td>\n",
       "      <td>NaN</td>\n",
       "      <td>...</td>\n",
       "      <td>NaN</td>\n",
       "      <td>NaN</td>\n",
       "      <td>NaN</td>\n",
       "      <td>NaN</td>\n",
       "      <td>NaN</td>\n",
       "      <td>NaN</td>\n",
       "      <td>NaN</td>\n",
       "      <td>NaN</td>\n",
       "      <td>NaN</td>\n",
       "      <td>NaN</td>\n",
       "    </tr>\n",
       "    <tr>\n",
       "      <th>2</th>\n",
       "      <td>1.0</td>\n",
       "      <td>1.0</td>\n",
       "      <td>1.0</td>\n",
       "      <td>1.0</td>\n",
       "      <td>1.0</td>\n",
       "      <td>1.0</td>\n",
       "      <td>1.0</td>\n",
       "      <td>1.0</td>\n",
       "      <td>1.0</td>\n",
       "      <td>0.0</td>\n",
       "      <td>...</td>\n",
       "      <td>NaN</td>\n",
       "      <td>NaN</td>\n",
       "      <td>NaN</td>\n",
       "      <td>NaN</td>\n",
       "      <td>NaN</td>\n",
       "      <td>NaN</td>\n",
       "      <td>NaN</td>\n",
       "      <td>NaN</td>\n",
       "      <td>NaN</td>\n",
       "      <td>NaN</td>\n",
       "    </tr>\n",
       "    <tr>\n",
       "      <th>3</th>\n",
       "      <td>NaN</td>\n",
       "      <td>NaN</td>\n",
       "      <td>NaN</td>\n",
       "      <td>NaN</td>\n",
       "      <td>NaN</td>\n",
       "      <td>NaN</td>\n",
       "      <td>NaN</td>\n",
       "      <td>NaN</td>\n",
       "      <td>NaN</td>\n",
       "      <td>NaN</td>\n",
       "      <td>...</td>\n",
       "      <td>NaN</td>\n",
       "      <td>NaN</td>\n",
       "      <td>NaN</td>\n",
       "      <td>NaN</td>\n",
       "      <td>NaN</td>\n",
       "      <td>NaN</td>\n",
       "      <td>NaN</td>\n",
       "      <td>NaN</td>\n",
       "      <td>NaN</td>\n",
       "      <td>NaN</td>\n",
       "    </tr>\n",
       "    <tr>\n",
       "      <th>4</th>\n",
       "      <td>NaN</td>\n",
       "      <td>NaN</td>\n",
       "      <td>NaN</td>\n",
       "      <td>NaN</td>\n",
       "      <td>NaN</td>\n",
       "      <td>NaN</td>\n",
       "      <td>NaN</td>\n",
       "      <td>NaN</td>\n",
       "      <td>NaN</td>\n",
       "      <td>NaN</td>\n",
       "      <td>...</td>\n",
       "      <td>0.0</td>\n",
       "      <td>0.0</td>\n",
       "      <td>0.0</td>\n",
       "      <td>0.0</td>\n",
       "      <td>0.0</td>\n",
       "      <td>0.0</td>\n",
       "      <td>0.0</td>\n",
       "      <td>0.0</td>\n",
       "      <td>0.0</td>\n",
       "      <td>0.0</td>\n",
       "    </tr>\n",
       "    <tr>\n",
       "      <th>...</th>\n",
       "      <td>...</td>\n",
       "      <td>...</td>\n",
       "      <td>...</td>\n",
       "      <td>...</td>\n",
       "      <td>...</td>\n",
       "      <td>...</td>\n",
       "      <td>...</td>\n",
       "      <td>...</td>\n",
       "      <td>...</td>\n",
       "      <td>...</td>\n",
       "      <td>...</td>\n",
       "      <td>...</td>\n",
       "      <td>...</td>\n",
       "      <td>...</td>\n",
       "      <td>...</td>\n",
       "      <td>...</td>\n",
       "      <td>...</td>\n",
       "      <td>...</td>\n",
       "      <td>...</td>\n",
       "      <td>...</td>\n",
       "      <td>...</td>\n",
       "    </tr>\n",
       "    <tr>\n",
       "      <th>590535</th>\n",
       "      <td>1.0</td>\n",
       "      <td>1.0</td>\n",
       "      <td>1.0</td>\n",
       "      <td>0.0</td>\n",
       "      <td>0.0</td>\n",
       "      <td>1.0</td>\n",
       "      <td>1.0</td>\n",
       "      <td>1.0</td>\n",
       "      <td>1.0</td>\n",
       "      <td>0.0</td>\n",
       "      <td>...</td>\n",
       "      <td>NaN</td>\n",
       "      <td>NaN</td>\n",
       "      <td>NaN</td>\n",
       "      <td>NaN</td>\n",
       "      <td>NaN</td>\n",
       "      <td>NaN</td>\n",
       "      <td>NaN</td>\n",
       "      <td>NaN</td>\n",
       "      <td>NaN</td>\n",
       "      <td>NaN</td>\n",
       "    </tr>\n",
       "    <tr>\n",
       "      <th>590536</th>\n",
       "      <td>1.0</td>\n",
       "      <td>1.0</td>\n",
       "      <td>1.0</td>\n",
       "      <td>1.0</td>\n",
       "      <td>1.0</td>\n",
       "      <td>1.0</td>\n",
       "      <td>1.0</td>\n",
       "      <td>1.0</td>\n",
       "      <td>1.0</td>\n",
       "      <td>0.0</td>\n",
       "      <td>...</td>\n",
       "      <td>NaN</td>\n",
       "      <td>NaN</td>\n",
       "      <td>NaN</td>\n",
       "      <td>NaN</td>\n",
       "      <td>NaN</td>\n",
       "      <td>NaN</td>\n",
       "      <td>NaN</td>\n",
       "      <td>NaN</td>\n",
       "      <td>NaN</td>\n",
       "      <td>NaN</td>\n",
       "    </tr>\n",
       "    <tr>\n",
       "      <th>590537</th>\n",
       "      <td>1.0</td>\n",
       "      <td>1.0</td>\n",
       "      <td>1.0</td>\n",
       "      <td>1.0</td>\n",
       "      <td>1.0</td>\n",
       "      <td>1.0</td>\n",
       "      <td>1.0</td>\n",
       "      <td>1.0</td>\n",
       "      <td>1.0</td>\n",
       "      <td>1.0</td>\n",
       "      <td>...</td>\n",
       "      <td>NaN</td>\n",
       "      <td>NaN</td>\n",
       "      <td>NaN</td>\n",
       "      <td>NaN</td>\n",
       "      <td>NaN</td>\n",
       "      <td>NaN</td>\n",
       "      <td>NaN</td>\n",
       "      <td>NaN</td>\n",
       "      <td>NaN</td>\n",
       "      <td>NaN</td>\n",
       "    </tr>\n",
       "    <tr>\n",
       "      <th>590538</th>\n",
       "      <td>1.0</td>\n",
       "      <td>1.0</td>\n",
       "      <td>1.0</td>\n",
       "      <td>2.0</td>\n",
       "      <td>2.0</td>\n",
       "      <td>1.0</td>\n",
       "      <td>1.0</td>\n",
       "      <td>1.0</td>\n",
       "      <td>1.0</td>\n",
       "      <td>0.0</td>\n",
       "      <td>...</td>\n",
       "      <td>NaN</td>\n",
       "      <td>NaN</td>\n",
       "      <td>NaN</td>\n",
       "      <td>NaN</td>\n",
       "      <td>NaN</td>\n",
       "      <td>NaN</td>\n",
       "      <td>NaN</td>\n",
       "      <td>NaN</td>\n",
       "      <td>NaN</td>\n",
       "      <td>NaN</td>\n",
       "    </tr>\n",
       "    <tr>\n",
       "      <th>590539</th>\n",
       "      <td>1.0</td>\n",
       "      <td>1.0</td>\n",
       "      <td>1.0</td>\n",
       "      <td>1.0</td>\n",
       "      <td>1.0</td>\n",
       "      <td>1.0</td>\n",
       "      <td>1.0</td>\n",
       "      <td>1.0</td>\n",
       "      <td>1.0</td>\n",
       "      <td>1.0</td>\n",
       "      <td>...</td>\n",
       "      <td>NaN</td>\n",
       "      <td>NaN</td>\n",
       "      <td>NaN</td>\n",
       "      <td>NaN</td>\n",
       "      <td>NaN</td>\n",
       "      <td>NaN</td>\n",
       "      <td>NaN</td>\n",
       "      <td>NaN</td>\n",
       "      <td>NaN</td>\n",
       "      <td>NaN</td>\n",
       "    </tr>\n",
       "  </tbody>\n",
       "</table>\n",
       "<p>590540 rows × 339 columns</p>\n",
       "</div>"
      ],
      "text/plain": [
       "         V1   V2   V3   V4   V5   V6   V7   V8   V9  V10  ...  V330  V331  \\\n",
       "0       1.0  1.0  1.0  1.0  1.0  1.0  1.0  1.0  1.0  0.0  ...   NaN   NaN   \n",
       "1       NaN  NaN  NaN  NaN  NaN  NaN  NaN  NaN  NaN  NaN  ...   NaN   NaN   \n",
       "2       1.0  1.0  1.0  1.0  1.0  1.0  1.0  1.0  1.0  0.0  ...   NaN   NaN   \n",
       "3       NaN  NaN  NaN  NaN  NaN  NaN  NaN  NaN  NaN  NaN  ...   NaN   NaN   \n",
       "4       NaN  NaN  NaN  NaN  NaN  NaN  NaN  NaN  NaN  NaN  ...   0.0   0.0   \n",
       "...     ...  ...  ...  ...  ...  ...  ...  ...  ...  ...  ...   ...   ...   \n",
       "590535  1.0  1.0  1.0  0.0  0.0  1.0  1.0  1.0  1.0  0.0  ...   NaN   NaN   \n",
       "590536  1.0  1.0  1.0  1.0  1.0  1.0  1.0  1.0  1.0  0.0  ...   NaN   NaN   \n",
       "590537  1.0  1.0  1.0  1.0  1.0  1.0  1.0  1.0  1.0  1.0  ...   NaN   NaN   \n",
       "590538  1.0  1.0  1.0  2.0  2.0  1.0  1.0  1.0  1.0  0.0  ...   NaN   NaN   \n",
       "590539  1.0  1.0  1.0  1.0  1.0  1.0  1.0  1.0  1.0  1.0  ...   NaN   NaN   \n",
       "\n",
       "        V332  V333  V334  V335  V336  V337  V338  V339  \n",
       "0        NaN   NaN   NaN   NaN   NaN   NaN   NaN   NaN  \n",
       "1        NaN   NaN   NaN   NaN   NaN   NaN   NaN   NaN  \n",
       "2        NaN   NaN   NaN   NaN   NaN   NaN   NaN   NaN  \n",
       "3        NaN   NaN   NaN   NaN   NaN   NaN   NaN   NaN  \n",
       "4        0.0   0.0   0.0   0.0   0.0   0.0   0.0   0.0  \n",
       "...      ...   ...   ...   ...   ...   ...   ...   ...  \n",
       "590535   NaN   NaN   NaN   NaN   NaN   NaN   NaN   NaN  \n",
       "590536   NaN   NaN   NaN   NaN   NaN   NaN   NaN   NaN  \n",
       "590537   NaN   NaN   NaN   NaN   NaN   NaN   NaN   NaN  \n",
       "590538   NaN   NaN   NaN   NaN   NaN   NaN   NaN   NaN  \n",
       "590539   NaN   NaN   NaN   NaN   NaN   NaN   NaN   NaN  \n",
       "\n",
       "[590540 rows x 339 columns]"
      ]
     },
     "execution_count": 170,
     "metadata": {},
     "output_type": "execute_result"
    }
   ],
   "source": [
    "v_features_df"
   ]
  },
  {
   "cell_type": "code",
   "execution_count": 171,
   "id": "85e61200",
   "metadata": {},
   "outputs": [
    {
     "data": {
      "text/plain": [
       "V1      279287\n",
       "V2      279287\n",
       "V3      279287\n",
       "V4      279287\n",
       "V5      279287\n",
       "         ...  \n",
       "V335    508189\n",
       "V336    508189\n",
       "V337    508189\n",
       "V338    508189\n",
       "V339    508189\n",
       "Length: 339, dtype: int64"
      ]
     },
     "execution_count": 171,
     "metadata": {},
     "output_type": "execute_result"
    }
   ],
   "source": [
    "# Finiding no of NaN values in each V columns.\n",
    "v_features_df.isna().sum()"
   ]
  },
  {
   "cell_type": "code",
   "execution_count": 172,
   "id": "29ab30fb",
   "metadata": {
    "scrolled": true
   },
   "outputs": [
    {
     "data": {
      "text/html": [
       "<div>\n",
       "<style scoped>\n",
       "    .dataframe tbody tr th:only-of-type {\n",
       "        vertical-align: middle;\n",
       "    }\n",
       "\n",
       "    .dataframe tbody tr th {\n",
       "        vertical-align: top;\n",
       "    }\n",
       "\n",
       "    .dataframe thead th {\n",
       "        text-align: right;\n",
       "    }\n",
       "</style>\n",
       "<table border=\"1\" class=\"dataframe\">\n",
       "  <thead>\n",
       "    <tr style=\"text-align: right;\">\n",
       "      <th></th>\n",
       "      <th>V1</th>\n",
       "      <th>V2</th>\n",
       "      <th>V3</th>\n",
       "      <th>V4</th>\n",
       "      <th>V5</th>\n",
       "      <th>V6</th>\n",
       "      <th>V7</th>\n",
       "      <th>V8</th>\n",
       "      <th>V9</th>\n",
       "      <th>V10</th>\n",
       "      <th>...</th>\n",
       "      <th>V330</th>\n",
       "      <th>V331</th>\n",
       "      <th>V332</th>\n",
       "      <th>V333</th>\n",
       "      <th>V334</th>\n",
       "      <th>V335</th>\n",
       "      <th>V336</th>\n",
       "      <th>V337</th>\n",
       "      <th>V338</th>\n",
       "      <th>V339</th>\n",
       "    </tr>\n",
       "  </thead>\n",
       "  <tbody>\n",
       "    <tr>\n",
       "      <th>count</th>\n",
       "      <td>311253.000000</td>\n",
       "      <td>311253.000000</td>\n",
       "      <td>311253.000000</td>\n",
       "      <td>311253.000000</td>\n",
       "      <td>311253.000000</td>\n",
       "      <td>311253.000000</td>\n",
       "      <td>311253.000000</td>\n",
       "      <td>311253.000000</td>\n",
       "      <td>311253.000000</td>\n",
       "      <td>311253.000000</td>\n",
       "      <td>...</td>\n",
       "      <td>82351.000000</td>\n",
       "      <td>82351.000000</td>\n",
       "      <td>82351.000000</td>\n",
       "      <td>82351.000000</td>\n",
       "      <td>82351.000000</td>\n",
       "      <td>82351.00000</td>\n",
       "      <td>82351.000000</td>\n",
       "      <td>82351.000000</td>\n",
       "      <td>82351.000000</td>\n",
       "      <td>82351.000000</td>\n",
       "    </tr>\n",
       "    <tr>\n",
       "      <th>mean</th>\n",
       "      <td>0.999945</td>\n",
       "      <td>1.045204</td>\n",
       "      <td>1.078075</td>\n",
       "      <td>0.846456</td>\n",
       "      <td>0.876991</td>\n",
       "      <td>1.045686</td>\n",
       "      <td>1.072870</td>\n",
       "      <td>1.027704</td>\n",
       "      <td>1.041529</td>\n",
       "      <td>0.463915</td>\n",
       "      <td>...</td>\n",
       "      <td>0.775874</td>\n",
       "      <td>721.741883</td>\n",
       "      <td>1375.783644</td>\n",
       "      <td>1014.622782</td>\n",
       "      <td>9.807015</td>\n",
       "      <td>59.16455</td>\n",
       "      <td>28.530903</td>\n",
       "      <td>55.352422</td>\n",
       "      <td>151.160542</td>\n",
       "      <td>100.700882</td>\n",
       "    </tr>\n",
       "    <tr>\n",
       "      <th>std</th>\n",
       "      <td>0.007390</td>\n",
       "      <td>0.240133</td>\n",
       "      <td>0.320890</td>\n",
       "      <td>0.440053</td>\n",
       "      <td>0.475902</td>\n",
       "      <td>0.239385</td>\n",
       "      <td>0.304779</td>\n",
       "      <td>0.186069</td>\n",
       "      <td>0.226339</td>\n",
       "      <td>0.521522</td>\n",
       "      <td>...</td>\n",
       "      <td>4.727971</td>\n",
       "      <td>6217.223583</td>\n",
       "      <td>11169.275702</td>\n",
       "      <td>7955.735482</td>\n",
       "      <td>243.861391</td>\n",
       "      <td>387.62948</td>\n",
       "      <td>274.576920</td>\n",
       "      <td>668.486833</td>\n",
       "      <td>1095.034387</td>\n",
       "      <td>814.946722</td>\n",
       "    </tr>\n",
       "    <tr>\n",
       "      <th>min</th>\n",
       "      <td>0.000000</td>\n",
       "      <td>0.000000</td>\n",
       "      <td>0.000000</td>\n",
       "      <td>0.000000</td>\n",
       "      <td>0.000000</td>\n",
       "      <td>0.000000</td>\n",
       "      <td>0.000000</td>\n",
       "      <td>0.000000</td>\n",
       "      <td>0.000000</td>\n",
       "      <td>0.000000</td>\n",
       "      <td>...</td>\n",
       "      <td>0.000000</td>\n",
       "      <td>0.000000</td>\n",
       "      <td>0.000000</td>\n",
       "      <td>0.000000</td>\n",
       "      <td>0.000000</td>\n",
       "      <td>0.00000</td>\n",
       "      <td>0.000000</td>\n",
       "      <td>0.000000</td>\n",
       "      <td>0.000000</td>\n",
       "      <td>0.000000</td>\n",
       "    </tr>\n",
       "    <tr>\n",
       "      <th>25%</th>\n",
       "      <td>1.000000</td>\n",
       "      <td>1.000000</td>\n",
       "      <td>1.000000</td>\n",
       "      <td>1.000000</td>\n",
       "      <td>1.000000</td>\n",
       "      <td>1.000000</td>\n",
       "      <td>1.000000</td>\n",
       "      <td>1.000000</td>\n",
       "      <td>1.000000</td>\n",
       "      <td>0.000000</td>\n",
       "      <td>...</td>\n",
       "      <td>0.000000</td>\n",
       "      <td>0.000000</td>\n",
       "      <td>0.000000</td>\n",
       "      <td>0.000000</td>\n",
       "      <td>0.000000</td>\n",
       "      <td>0.00000</td>\n",
       "      <td>0.000000</td>\n",
       "      <td>0.000000</td>\n",
       "      <td>0.000000</td>\n",
       "      <td>0.000000</td>\n",
       "    </tr>\n",
       "    <tr>\n",
       "      <th>50%</th>\n",
       "      <td>1.000000</td>\n",
       "      <td>1.000000</td>\n",
       "      <td>1.000000</td>\n",
       "      <td>1.000000</td>\n",
       "      <td>1.000000</td>\n",
       "      <td>1.000000</td>\n",
       "      <td>1.000000</td>\n",
       "      <td>1.000000</td>\n",
       "      <td>1.000000</td>\n",
       "      <td>0.000000</td>\n",
       "      <td>...</td>\n",
       "      <td>0.000000</td>\n",
       "      <td>0.000000</td>\n",
       "      <td>0.000000</td>\n",
       "      <td>0.000000</td>\n",
       "      <td>0.000000</td>\n",
       "      <td>0.00000</td>\n",
       "      <td>0.000000</td>\n",
       "      <td>0.000000</td>\n",
       "      <td>0.000000</td>\n",
       "      <td>0.000000</td>\n",
       "    </tr>\n",
       "    <tr>\n",
       "      <th>75%</th>\n",
       "      <td>1.000000</td>\n",
       "      <td>1.000000</td>\n",
       "      <td>1.000000</td>\n",
       "      <td>1.000000</td>\n",
       "      <td>1.000000</td>\n",
       "      <td>1.000000</td>\n",
       "      <td>1.000000</td>\n",
       "      <td>1.000000</td>\n",
       "      <td>1.000000</td>\n",
       "      <td>1.000000</td>\n",
       "      <td>...</td>\n",
       "      <td>0.000000</td>\n",
       "      <td>0.000000</td>\n",
       "      <td>25.000000</td>\n",
       "      <td>0.000000</td>\n",
       "      <td>0.000000</td>\n",
       "      <td>0.00000</td>\n",
       "      <td>0.000000</td>\n",
       "      <td>0.000000</td>\n",
       "      <td>0.000000</td>\n",
       "      <td>0.000000</td>\n",
       "    </tr>\n",
       "    <tr>\n",
       "      <th>max</th>\n",
       "      <td>1.000000</td>\n",
       "      <td>8.000000</td>\n",
       "      <td>9.000000</td>\n",
       "      <td>6.000000</td>\n",
       "      <td>6.000000</td>\n",
       "      <td>9.000000</td>\n",
       "      <td>9.000000</td>\n",
       "      <td>8.000000</td>\n",
       "      <td>8.000000</td>\n",
       "      <td>4.000000</td>\n",
       "      <td>...</td>\n",
       "      <td>55.000000</td>\n",
       "      <td>160000.000000</td>\n",
       "      <td>160000.000000</td>\n",
       "      <td>160000.000000</td>\n",
       "      <td>55125.000000</td>\n",
       "      <td>55125.00000</td>\n",
       "      <td>55125.000000</td>\n",
       "      <td>104060.000000</td>\n",
       "      <td>104060.000000</td>\n",
       "      <td>104060.000000</td>\n",
       "    </tr>\n",
       "  </tbody>\n",
       "</table>\n",
       "<p>8 rows × 339 columns</p>\n",
       "</div>"
      ],
      "text/plain": [
       "                  V1             V2             V3             V4  \\\n",
       "count  311253.000000  311253.000000  311253.000000  311253.000000   \n",
       "mean        0.999945       1.045204       1.078075       0.846456   \n",
       "std         0.007390       0.240133       0.320890       0.440053   \n",
       "min         0.000000       0.000000       0.000000       0.000000   \n",
       "25%         1.000000       1.000000       1.000000       1.000000   \n",
       "50%         1.000000       1.000000       1.000000       1.000000   \n",
       "75%         1.000000       1.000000       1.000000       1.000000   \n",
       "max         1.000000       8.000000       9.000000       6.000000   \n",
       "\n",
       "                  V5             V6             V7             V8  \\\n",
       "count  311253.000000  311253.000000  311253.000000  311253.000000   \n",
       "mean        0.876991       1.045686       1.072870       1.027704   \n",
       "std         0.475902       0.239385       0.304779       0.186069   \n",
       "min         0.000000       0.000000       0.000000       0.000000   \n",
       "25%         1.000000       1.000000       1.000000       1.000000   \n",
       "50%         1.000000       1.000000       1.000000       1.000000   \n",
       "75%         1.000000       1.000000       1.000000       1.000000   \n",
       "max         6.000000       9.000000       9.000000       8.000000   \n",
       "\n",
       "                  V9            V10  ...          V330           V331  \\\n",
       "count  311253.000000  311253.000000  ...  82351.000000   82351.000000   \n",
       "mean        1.041529       0.463915  ...      0.775874     721.741883   \n",
       "std         0.226339       0.521522  ...      4.727971    6217.223583   \n",
       "min         0.000000       0.000000  ...      0.000000       0.000000   \n",
       "25%         1.000000       0.000000  ...      0.000000       0.000000   \n",
       "50%         1.000000       0.000000  ...      0.000000       0.000000   \n",
       "75%         1.000000       1.000000  ...      0.000000       0.000000   \n",
       "max         8.000000       4.000000  ...     55.000000  160000.000000   \n",
       "\n",
       "                V332           V333          V334         V335          V336  \\\n",
       "count   82351.000000   82351.000000  82351.000000  82351.00000  82351.000000   \n",
       "mean     1375.783644    1014.622782      9.807015     59.16455     28.530903   \n",
       "std     11169.275702    7955.735482    243.861391    387.62948    274.576920   \n",
       "min         0.000000       0.000000      0.000000      0.00000      0.000000   \n",
       "25%         0.000000       0.000000      0.000000      0.00000      0.000000   \n",
       "50%         0.000000       0.000000      0.000000      0.00000      0.000000   \n",
       "75%        25.000000       0.000000      0.000000      0.00000      0.000000   \n",
       "max    160000.000000  160000.000000  55125.000000  55125.00000  55125.000000   \n",
       "\n",
       "                V337           V338           V339  \n",
       "count   82351.000000   82351.000000   82351.000000  \n",
       "mean       55.352422     151.160542     100.700882  \n",
       "std       668.486833    1095.034387     814.946722  \n",
       "min         0.000000       0.000000       0.000000  \n",
       "25%         0.000000       0.000000       0.000000  \n",
       "50%         0.000000       0.000000       0.000000  \n",
       "75%         0.000000       0.000000       0.000000  \n",
       "max    104060.000000  104060.000000  104060.000000  \n",
       "\n",
       "[8 rows x 339 columns]"
      ]
     },
     "execution_count": 172,
     "metadata": {},
     "output_type": "execute_result"
    }
   ],
   "source": [
    "# Checking the description of each of the V series columns\n",
    "\n",
    "v_features_df.describe()"
   ]
  },
  {
   "cell_type": "markdown",
   "id": "17dff598",
   "metadata": {},
   "source": [
    "**Data Analysis on DeviceInfo and DeviceType**"
   ]
  },
  {
   "cell_type": "code",
   "execution_count": 173,
   "id": "3e2a2ae7",
   "metadata": {},
   "outputs": [
    {
     "data": {
      "text/plain": [
       "Windows        47722\n",
       "iOS Device     19782\n",
       "MacOS          12573\n",
       "Trident/7.0     7440\n",
       "rv:11.0         1901\n",
       "               ...  \n",
       "LGMS345            1\n",
       "verykool           1\n",
       "XT1072             1\n",
       "LG-H931            1\n",
       "0PJA2              1\n",
       "Name: DeviceInfo, Length: 1786, dtype: int64"
      ]
     },
     "execution_count": 173,
     "metadata": {},
     "output_type": "execute_result"
    }
   ],
   "source": [
    "# Finding the number of unique values present in Device Info column\n",
    "train_set['DeviceInfo'].value_counts()"
   ]
  },
  {
   "cell_type": "markdown",
   "id": "fc51702a",
   "metadata": {},
   "source": [
    "- There are 1786 devices used in the transaction which is a lot. "
   ]
  },
  {
   "cell_type": "code",
   "execution_count": 174,
   "id": "80665697",
   "metadata": {},
   "outputs": [
    {
     "data": {
      "text/plain": [
       "<AxesSubplot:xlabel='DeviceType', ylabel='percentage'>"
      ]
     },
     "execution_count": 174,
     "metadata": {},
     "output_type": "execute_result"
    },
    {
     "data": {
      "image/png": "[encoded data removed]",
      "text/plain": [
       "<Figure size 432x288 with 1 Axes>"
      ]
     },
     "metadata": {
      "needs_background": "light"
     },
     "output_type": "display_data"
    }
   ],
   "source": [
    "# Grouping by Device type and isFraud to compare both using barplot\n",
    "\n",
    "DeviceType = (train_set.groupby(['isFraud'])['DeviceType']\n",
    "                     .value_counts(normalize=True)\n",
    "                     .rename('percentage')\n",
    "                     .mul(100)\n",
    "                     .reset_index()\n",
    "                     .sort_values('DeviceType'))\n",
    "sns.barplot(x=\"DeviceType\", y=\"percentage\", hue=\"isFraud\", data=DeviceType)"
   ]
  },
  {
   "cell_type": "markdown",
   "id": "d0a53107",
   "metadata": {},
   "source": [
    "- Mostly mobile transactions are fraudulant.\n",
    "- Both desktop and mobile have same percentage of fraudulant transactions. \n",
    "\n",
    "\n",
    "- EDA on id features is being done in next section aside from that we did EDA on every other feature in the data set."
   ]
  },
  {
   "cell_type": "markdown",
   "id": "c8afda02",
   "metadata": {},
   "source": [
    "# Feature Engineering and Selection"
   ]
  },
  {
   "cell_type": "markdown",
   "id": "35efad76",
   "metadata": {},
   "source": [
    "- In this part, we'll decide which features should we use and what other transformations or functions should we use so as to make our data set ready to use on ML model"
   ]
  },
  {
   "cell_type": "code",
   "execution_count": 175,
   "id": "05b84a82",
   "metadata": {},
   "outputs": [
    {
     "data": {
      "text/plain": [
       "['id_12',\n",
       " 'id_15',\n",
       " 'id_16',\n",
       " 'id_23',\n",
       " 'id_27',\n",
       " 'id_28',\n",
       " 'id_29',\n",
       " 'id_30',\n",
       " 'id_31',\n",
       " 'id_33',\n",
       " 'id_34',\n",
       " 'id_35',\n",
       " 'id_36',\n",
       " 'id_37',\n",
       " 'id_38',\n",
       " 'DeviceType',\n",
       " 'DeviceInfo']"
      ]
     },
     "execution_count": 175,
     "metadata": {},
     "output_type": "execute_result"
    }
   ],
   "source": [
    "# Finding out the data sets which has a data type object\n",
    "\n",
    "categorical_col = [feature for feature in tr_identity.columns if tr_identity[feature].dtype=='O']\n",
    "categorical_col"
   ]
  },
  {
   "cell_type": "code",
   "execution_count": 176,
   "id": "81695f81",
   "metadata": {},
   "outputs": [
    {
     "name": "stdout",
     "output_type": "stream",
     "text": [
      "id_12: 0.0% of values are missing\n",
      "id_15: 2.2519% of values are missing\n",
      "id_16: 10.3257% of values are missing\n",
      "id_23: 96.4162% of values are missing\n",
      "id_27: 96.4162% of values are missing\n",
      "id_28: 2.2568% of values are missing\n",
      "id_29: 2.2568% of values are missing\n",
      "id_30: 46.2224% of values are missing\n",
      "id_31: 2.7393% of values are missing\n",
      "id_33: 49.1871% of values are missing\n",
      "id_34: 46.056% of values are missing\n",
      "id_35: 2.2519% of values are missing\n",
      "id_36: 2.2519% of values are missing\n",
      "id_37: 2.2519% of values are missing\n",
      "id_38: 2.2519% of values are missing\n",
      "DeviceType: 2.3732% of values are missing\n",
      "DeviceInfo: 17.7262% of values are missing\n"
     ]
    }
   ],
   "source": [
    "# Calculating the percentage of NaN values in each of the categorical columns\n",
    "\n",
    "for feature in categorical_col:\n",
    "    print(\"{}: {}% of values are missing\".format(feature,np.round(tr_identity[feature].isnull().mul(100).mean(),4)))"
   ]
  },
  {
   "cell_type": "markdown",
   "id": "df3e24ed",
   "metadata": {},
   "source": [
    "- Since categorical values are important in ML model, we'll remove those features whose %NaN values are high.\n",
    "- In this case id_23 and id_27 which have 96% of NaN values in them."
   ]
  },
  {
   "cell_type": "code",
   "execution_count": 177,
   "id": "f08b4eb0",
   "metadata": {},
   "outputs": [
    {
     "data": {
      "text/html": [
       "<div>\n",
       "<style scoped>\n",
       "    .dataframe tbody tr th:only-of-type {\n",
       "        vertical-align: middle;\n",
       "    }\n",
       "\n",
       "    .dataframe tbody tr th {\n",
       "        vertical-align: top;\n",
       "    }\n",
       "\n",
       "    .dataframe thead th {\n",
       "        text-align: right;\n",
       "    }\n",
       "</style>\n",
       "<table border=\"1\" class=\"dataframe\">\n",
       "  <thead>\n",
       "    <tr style=\"text-align: right;\">\n",
       "      <th></th>\n",
       "      <th>TransactionID</th>\n",
       "      <th>id_01</th>\n",
       "      <th>id_02</th>\n",
       "      <th>id_03</th>\n",
       "      <th>id_04</th>\n",
       "      <th>id_05</th>\n",
       "      <th>id_06</th>\n",
       "      <th>id_07</th>\n",
       "      <th>id_08</th>\n",
       "      <th>id_09</th>\n",
       "      <th>...</th>\n",
       "      <th>id_31</th>\n",
       "      <th>id_32</th>\n",
       "      <th>id_33</th>\n",
       "      <th>id_34</th>\n",
       "      <th>id_35</th>\n",
       "      <th>id_36</th>\n",
       "      <th>id_37</th>\n",
       "      <th>id_38</th>\n",
       "      <th>DeviceType</th>\n",
       "      <th>DeviceInfo</th>\n",
       "    </tr>\n",
       "  </thead>\n",
       "  <tbody>\n",
       "    <tr>\n",
       "      <th>0</th>\n",
       "      <td>2987004</td>\n",
       "      <td>0.0</td>\n",
       "      <td>70787.0</td>\n",
       "      <td>NaN</td>\n",
       "      <td>NaN</td>\n",
       "      <td>NaN</td>\n",
       "      <td>NaN</td>\n",
       "      <td>NaN</td>\n",
       "      <td>NaN</td>\n",
       "      <td>NaN</td>\n",
       "      <td>...</td>\n",
       "      <td>samsung browser 6.2</td>\n",
       "      <td>32.0</td>\n",
       "      <td>2220x1080</td>\n",
       "      <td>match_status:2</td>\n",
       "      <td>T</td>\n",
       "      <td>F</td>\n",
       "      <td>T</td>\n",
       "      <td>T</td>\n",
       "      <td>mobile</td>\n",
       "      <td>SAMSUNG SM-G892A Build/NRD90M</td>\n",
       "    </tr>\n",
       "    <tr>\n",
       "      <th>1</th>\n",
       "      <td>2987008</td>\n",
       "      <td>-5.0</td>\n",
       "      <td>98945.0</td>\n",
       "      <td>NaN</td>\n",
       "      <td>NaN</td>\n",
       "      <td>0.0</td>\n",
       "      <td>-5.0</td>\n",
       "      <td>NaN</td>\n",
       "      <td>NaN</td>\n",
       "      <td>NaN</td>\n",
       "      <td>...</td>\n",
       "      <td>mobile safari 11.0</td>\n",
       "      <td>32.0</td>\n",
       "      <td>1334x750</td>\n",
       "      <td>match_status:1</td>\n",
       "      <td>T</td>\n",
       "      <td>F</td>\n",
       "      <td>F</td>\n",
       "      <td>T</td>\n",
       "      <td>mobile</td>\n",
       "      <td>iOS Device</td>\n",
       "    </tr>\n",
       "    <tr>\n",
       "      <th>2</th>\n",
       "      <td>2987010</td>\n",
       "      <td>-5.0</td>\n",
       "      <td>191631.0</td>\n",
       "      <td>0.0</td>\n",
       "      <td>0.0</td>\n",
       "      <td>0.0</td>\n",
       "      <td>0.0</td>\n",
       "      <td>NaN</td>\n",
       "      <td>NaN</td>\n",
       "      <td>0.0</td>\n",
       "      <td>...</td>\n",
       "      <td>chrome 62.0</td>\n",
       "      <td>NaN</td>\n",
       "      <td>NaN</td>\n",
       "      <td>NaN</td>\n",
       "      <td>F</td>\n",
       "      <td>F</td>\n",
       "      <td>T</td>\n",
       "      <td>T</td>\n",
       "      <td>desktop</td>\n",
       "      <td>Windows</td>\n",
       "    </tr>\n",
       "    <tr>\n",
       "      <th>3</th>\n",
       "      <td>2987011</td>\n",
       "      <td>-5.0</td>\n",
       "      <td>221832.0</td>\n",
       "      <td>NaN</td>\n",
       "      <td>NaN</td>\n",
       "      <td>0.0</td>\n",
       "      <td>-6.0</td>\n",
       "      <td>NaN</td>\n",
       "      <td>NaN</td>\n",
       "      <td>NaN</td>\n",
       "      <td>...</td>\n",
       "      <td>chrome 62.0</td>\n",
       "      <td>NaN</td>\n",
       "      <td>NaN</td>\n",
       "      <td>NaN</td>\n",
       "      <td>F</td>\n",
       "      <td>F</td>\n",
       "      <td>T</td>\n",
       "      <td>T</td>\n",
       "      <td>desktop</td>\n",
       "      <td>NaN</td>\n",
       "    </tr>\n",
       "    <tr>\n",
       "      <th>4</th>\n",
       "      <td>2987016</td>\n",
       "      <td>0.0</td>\n",
       "      <td>7460.0</td>\n",
       "      <td>0.0</td>\n",
       "      <td>0.0</td>\n",
       "      <td>1.0</td>\n",
       "      <td>0.0</td>\n",
       "      <td>NaN</td>\n",
       "      <td>NaN</td>\n",
       "      <td>0.0</td>\n",
       "      <td>...</td>\n",
       "      <td>chrome 62.0</td>\n",
       "      <td>24.0</td>\n",
       "      <td>1280x800</td>\n",
       "      <td>match_status:2</td>\n",
       "      <td>T</td>\n",
       "      <td>F</td>\n",
       "      <td>T</td>\n",
       "      <td>T</td>\n",
       "      <td>desktop</td>\n",
       "      <td>MacOS</td>\n",
       "    </tr>\n",
       "    <tr>\n",
       "      <th>...</th>\n",
       "      <td>...</td>\n",
       "      <td>...</td>\n",
       "      <td>...</td>\n",
       "      <td>...</td>\n",
       "      <td>...</td>\n",
       "      <td>...</td>\n",
       "      <td>...</td>\n",
       "      <td>...</td>\n",
       "      <td>...</td>\n",
       "      <td>...</td>\n",
       "      <td>...</td>\n",
       "      <td>...</td>\n",
       "      <td>...</td>\n",
       "      <td>...</td>\n",
       "      <td>...</td>\n",
       "      <td>...</td>\n",
       "      <td>...</td>\n",
       "      <td>...</td>\n",
       "      <td>...</td>\n",
       "      <td>...</td>\n",
       "      <td>...</td>\n",
       "    </tr>\n",
       "    <tr>\n",
       "      <th>144228</th>\n",
       "      <td>3577521</td>\n",
       "      <td>-15.0</td>\n",
       "      <td>145955.0</td>\n",
       "      <td>0.0</td>\n",
       "      <td>0.0</td>\n",
       "      <td>0.0</td>\n",
       "      <td>0.0</td>\n",
       "      <td>NaN</td>\n",
       "      <td>NaN</td>\n",
       "      <td>0.0</td>\n",
       "      <td>...</td>\n",
       "      <td>chrome 66.0 for android</td>\n",
       "      <td>NaN</td>\n",
       "      <td>NaN</td>\n",
       "      <td>NaN</td>\n",
       "      <td>F</td>\n",
       "      <td>F</td>\n",
       "      <td>T</td>\n",
       "      <td>F</td>\n",
       "      <td>mobile</td>\n",
       "      <td>F3111 Build/33.3.A.1.97</td>\n",
       "    </tr>\n",
       "    <tr>\n",
       "      <th>144229</th>\n",
       "      <td>3577526</td>\n",
       "      <td>-5.0</td>\n",
       "      <td>172059.0</td>\n",
       "      <td>NaN</td>\n",
       "      <td>NaN</td>\n",
       "      <td>1.0</td>\n",
       "      <td>-5.0</td>\n",
       "      <td>NaN</td>\n",
       "      <td>NaN</td>\n",
       "      <td>NaN</td>\n",
       "      <td>...</td>\n",
       "      <td>chrome 55.0 for android</td>\n",
       "      <td>32.0</td>\n",
       "      <td>855x480</td>\n",
       "      <td>match_status:2</td>\n",
       "      <td>T</td>\n",
       "      <td>F</td>\n",
       "      <td>T</td>\n",
       "      <td>F</td>\n",
       "      <td>mobile</td>\n",
       "      <td>A574BL Build/NMF26F</td>\n",
       "    </tr>\n",
       "    <tr>\n",
       "      <th>144230</th>\n",
       "      <td>3577529</td>\n",
       "      <td>-20.0</td>\n",
       "      <td>632381.0</td>\n",
       "      <td>NaN</td>\n",
       "      <td>NaN</td>\n",
       "      <td>-1.0</td>\n",
       "      <td>-36.0</td>\n",
       "      <td>NaN</td>\n",
       "      <td>NaN</td>\n",
       "      <td>NaN</td>\n",
       "      <td>...</td>\n",
       "      <td>chrome 65.0 for android</td>\n",
       "      <td>NaN</td>\n",
       "      <td>NaN</td>\n",
       "      <td>NaN</td>\n",
       "      <td>F</td>\n",
       "      <td>F</td>\n",
       "      <td>T</td>\n",
       "      <td>F</td>\n",
       "      <td>mobile</td>\n",
       "      <td>Moto E (4) Plus Build/NMA26.42-152</td>\n",
       "    </tr>\n",
       "    <tr>\n",
       "      <th>144231</th>\n",
       "      <td>3577531</td>\n",
       "      <td>-5.0</td>\n",
       "      <td>55528.0</td>\n",
       "      <td>0.0</td>\n",
       "      <td>0.0</td>\n",
       "      <td>0.0</td>\n",
       "      <td>-7.0</td>\n",
       "      <td>NaN</td>\n",
       "      <td>NaN</td>\n",
       "      <td>0.0</td>\n",
       "      <td>...</td>\n",
       "      <td>chrome 66.0</td>\n",
       "      <td>24.0</td>\n",
       "      <td>2560x1600</td>\n",
       "      <td>match_status:2</td>\n",
       "      <td>T</td>\n",
       "      <td>F</td>\n",
       "      <td>T</td>\n",
       "      <td>F</td>\n",
       "      <td>desktop</td>\n",
       "      <td>MacOS</td>\n",
       "    </tr>\n",
       "    <tr>\n",
       "      <th>144232</th>\n",
       "      <td>3577534</td>\n",
       "      <td>-45.0</td>\n",
       "      <td>339406.0</td>\n",
       "      <td>NaN</td>\n",
       "      <td>NaN</td>\n",
       "      <td>-10.0</td>\n",
       "      <td>-100.0</td>\n",
       "      <td>NaN</td>\n",
       "      <td>NaN</td>\n",
       "      <td>NaN</td>\n",
       "      <td>...</td>\n",
       "      <td>chrome 66.0 for android</td>\n",
       "      <td>NaN</td>\n",
       "      <td>NaN</td>\n",
       "      <td>NaN</td>\n",
       "      <td>F</td>\n",
       "      <td>F</td>\n",
       "      <td>T</td>\n",
       "      <td>F</td>\n",
       "      <td>mobile</td>\n",
       "      <td>RNE-L03 Build/HUAWEIRNE-L03</td>\n",
       "    </tr>\n",
       "  </tbody>\n",
       "</table>\n",
       "<p>144233 rows × 39 columns</p>\n",
       "</div>"
      ],
      "text/plain": [
       "        TransactionID  id_01     id_02  id_03  id_04  id_05  id_06  id_07  \\\n",
       "0             2987004    0.0   70787.0    NaN    NaN    NaN    NaN    NaN   \n",
       "1             2987008   -5.0   98945.0    NaN    NaN    0.0   -5.0    NaN   \n",
       "2             2987010   -5.0  191631.0    0.0    0.0    0.0    0.0    NaN   \n",
       "3             2987011   -5.0  221832.0    NaN    NaN    0.0   -6.0    NaN   \n",
       "4             2987016    0.0    7460.0    0.0    0.0    1.0    0.0    NaN   \n",
       "...               ...    ...       ...    ...    ...    ...    ...    ...   \n",
       "144228        3577521  -15.0  145955.0    0.0    0.0    0.0    0.0    NaN   \n",
       "144229        3577526   -5.0  172059.0    NaN    NaN    1.0   -5.0    NaN   \n",
       "144230        3577529  -20.0  632381.0    NaN    NaN   -1.0  -36.0    NaN   \n",
       "144231        3577531   -5.0   55528.0    0.0    0.0    0.0   -7.0    NaN   \n",
       "144232        3577534  -45.0  339406.0    NaN    NaN  -10.0 -100.0    NaN   \n",
       "\n",
       "        id_08  id_09  ...                    id_31  id_32      id_33  \\\n",
       "0         NaN    NaN  ...      samsung browser 6.2   32.0  2220x1080   \n",
       "1         NaN    NaN  ...       mobile safari 11.0   32.0   1334x750   \n",
       "2         NaN    0.0  ...              chrome 62.0    NaN        NaN   \n",
       "3         NaN    NaN  ...              chrome 62.0    NaN        NaN   \n",
       "4         NaN    0.0  ...              chrome 62.0   24.0   1280x800   \n",
       "...       ...    ...  ...                      ...    ...        ...   \n",
       "144228    NaN    0.0  ...  chrome 66.0 for android    NaN        NaN   \n",
       "144229    NaN    NaN  ...  chrome 55.0 for android   32.0    855x480   \n",
       "144230    NaN    NaN  ...  chrome 65.0 for android    NaN        NaN   \n",
       "144231    NaN    0.0  ...              chrome 66.0   24.0  2560x1600   \n",
       "144232    NaN    NaN  ...  chrome 66.0 for android    NaN        NaN   \n",
       "\n",
       "                 id_34  id_35 id_36 id_37  id_38  DeviceType  \\\n",
       "0       match_status:2      T     F     T      T      mobile   \n",
       "1       match_status:1      T     F     F      T      mobile   \n",
       "2                  NaN      F     F     T      T     desktop   \n",
       "3                  NaN      F     F     T      T     desktop   \n",
       "4       match_status:2      T     F     T      T     desktop   \n",
       "...                ...    ...   ...   ...    ...         ...   \n",
       "144228             NaN      F     F     T      F      mobile   \n",
       "144229  match_status:2      T     F     T      F      mobile   \n",
       "144230             NaN      F     F     T      F      mobile   \n",
       "144231  match_status:2      T     F     T      F     desktop   \n",
       "144232             NaN      F     F     T      F      mobile   \n",
       "\n",
       "                                DeviceInfo  \n",
       "0            SAMSUNG SM-G892A Build/NRD90M  \n",
       "1                               iOS Device  \n",
       "2                                  Windows  \n",
       "3                                      NaN  \n",
       "4                                    MacOS  \n",
       "...                                    ...  \n",
       "144228             F3111 Build/33.3.A.1.97  \n",
       "144229                 A574BL Build/NMF26F  \n",
       "144230  Moto E (4) Plus Build/NMA26.42-152  \n",
       "144231                               MacOS  \n",
       "144232         RNE-L03 Build/HUAWEIRNE-L03  \n",
       "\n",
       "[144233 rows x 39 columns]"
      ]
     },
     "execution_count": 177,
     "metadata": {},
     "output_type": "execute_result"
    }
   ],
   "source": [
    "# Dropping the columns 'id_23' and 'id_27' since it has 96% of NaN values\n",
    "tr_identity.drop(['id_23', 'id_27'], axis=1)"
   ]
  },
  {
   "cell_type": "markdown",
   "id": "298a6479",
   "metadata": {},
   "source": [
    "- We deal with NaN values in general based on the dtype. If dtype is object, we use the data mode to impute NaN values. If dtype is numerical, we impute NaN values using the data's mean or Replace them with specified values or remove them entirely, however this is inefficient with model. We're dealing with NaN numbers at this point by replacing them with '-999'. If roc auc score uses this less, we'll attempt a different way for dealing with NaNs."
   ]
  },
  {
   "cell_type": "code",
   "execution_count": 178,
   "id": "2ee84ec3",
   "metadata": {},
   "outputs": [],
   "source": [
    "# replace NaN values\n",
    "tr_identity=tr_identity.fillna(value=-999)"
   ]
  },
  {
   "cell_type": "code",
   "execution_count": 179,
   "id": "a446f7e9",
   "metadata": {},
   "outputs": [],
   "source": [
    "# Replace with numerical values\n",
    "# Manually replaced all the categorical values with numerical values because the model does not understand the categorical values.\n",
    "tr_identity = tr_identity.replace(\"Found\", 1)\n",
    "tr_identity = tr_identity.replace(\"NotFound\", 2)\n",
    "tr_identity = tr_identity.replace(\"New\", 3)\n",
    "tr_identity = tr_identity.replace(\"mobile\", 4)\n",
    "tr_identity = tr_identity.replace(\"desktop\", 5)\n",
    "tr_identity = tr_identity.replace(\"T\", 6)\n",
    "tr_identity = tr_identity.replace(\"F\", 7)"
   ]
  },
  {
   "cell_type": "code",
   "execution_count": 180,
   "id": "cd4ead4b",
   "metadata": {},
   "outputs": [
    {
     "data": {
      "text/html": [
       "<div>\n",
       "<style scoped>\n",
       "    .dataframe tbody tr th:only-of-type {\n",
       "        vertical-align: middle;\n",
       "    }\n",
       "\n",
       "    .dataframe tbody tr th {\n",
       "        vertical-align: top;\n",
       "    }\n",
       "\n",
       "    .dataframe thead th {\n",
       "        text-align: right;\n",
       "    }\n",
       "</style>\n",
       "<table border=\"1\" class=\"dataframe\">\n",
       "  <thead>\n",
       "    <tr style=\"text-align: right;\">\n",
       "      <th></th>\n",
       "      <th>id_15</th>\n",
       "      <th>id_23</th>\n",
       "      <th>id_30</th>\n",
       "      <th>id_31</th>\n",
       "      <th>id_33</th>\n",
       "      <th>id_34</th>\n",
       "      <th>DeviceInfo</th>\n",
       "    </tr>\n",
       "  </thead>\n",
       "  <tbody>\n",
       "    <tr>\n",
       "      <th>0</th>\n",
       "      <td>3</td>\n",
       "      <td>-999</td>\n",
       "      <td>Android 7.0</td>\n",
       "      <td>samsung browser 6.2</td>\n",
       "      <td>2220x1080</td>\n",
       "      <td>match_status:2</td>\n",
       "      <td>SAMSUNG SM-G892A Build/NRD90M</td>\n",
       "    </tr>\n",
       "    <tr>\n",
       "      <th>1</th>\n",
       "      <td>3</td>\n",
       "      <td>-999</td>\n",
       "      <td>iOS 11.1.2</td>\n",
       "      <td>mobile safari 11.0</td>\n",
       "      <td>1334x750</td>\n",
       "      <td>match_status:1</td>\n",
       "      <td>iOS Device</td>\n",
       "    </tr>\n",
       "    <tr>\n",
       "      <th>2</th>\n",
       "      <td>1</td>\n",
       "      <td>-999</td>\n",
       "      <td>-999</td>\n",
       "      <td>chrome 62.0</td>\n",
       "      <td>-999</td>\n",
       "      <td>-999</td>\n",
       "      <td>Windows</td>\n",
       "    </tr>\n",
       "    <tr>\n",
       "      <th>3</th>\n",
       "      <td>3</td>\n",
       "      <td>-999</td>\n",
       "      <td>-999</td>\n",
       "      <td>chrome 62.0</td>\n",
       "      <td>-999</td>\n",
       "      <td>-999</td>\n",
       "      <td>-999</td>\n",
       "    </tr>\n",
       "    <tr>\n",
       "      <th>4</th>\n",
       "      <td>1</td>\n",
       "      <td>-999</td>\n",
       "      <td>Mac OS X 10_11_6</td>\n",
       "      <td>chrome 62.0</td>\n",
       "      <td>1280x800</td>\n",
       "      <td>match_status:2</td>\n",
       "      <td>MacOS</td>\n",
       "    </tr>\n",
       "    <tr>\n",
       "      <th>...</th>\n",
       "      <td>...</td>\n",
       "      <td>...</td>\n",
       "      <td>...</td>\n",
       "      <td>...</td>\n",
       "      <td>...</td>\n",
       "      <td>...</td>\n",
       "      <td>...</td>\n",
       "    </tr>\n",
       "    <tr>\n",
       "      <th>144228</th>\n",
       "      <td>1</td>\n",
       "      <td>-999</td>\n",
       "      <td>-999</td>\n",
       "      <td>chrome 66.0 for android</td>\n",
       "      <td>-999</td>\n",
       "      <td>-999</td>\n",
       "      <td>F3111 Build/33.3.A.1.97</td>\n",
       "    </tr>\n",
       "    <tr>\n",
       "      <th>144229</th>\n",
       "      <td>3</td>\n",
       "      <td>-999</td>\n",
       "      <td>Android 7.1.1</td>\n",
       "      <td>chrome 55.0 for android</td>\n",
       "      <td>855x480</td>\n",
       "      <td>match_status:2</td>\n",
       "      <td>A574BL Build/NMF26F</td>\n",
       "    </tr>\n",
       "    <tr>\n",
       "      <th>144230</th>\n",
       "      <td>3</td>\n",
       "      <td>-999</td>\n",
       "      <td>-999</td>\n",
       "      <td>chrome 65.0 for android</td>\n",
       "      <td>-999</td>\n",
       "      <td>-999</td>\n",
       "      <td>Moto E (4) Plus Build/NMA26.42-152</td>\n",
       "    </tr>\n",
       "    <tr>\n",
       "      <th>144231</th>\n",
       "      <td>1</td>\n",
       "      <td>-999</td>\n",
       "      <td>Mac OS X 10_9_5</td>\n",
       "      <td>chrome 66.0</td>\n",
       "      <td>2560x1600</td>\n",
       "      <td>match_status:2</td>\n",
       "      <td>MacOS</td>\n",
       "    </tr>\n",
       "    <tr>\n",
       "      <th>144232</th>\n",
       "      <td>3</td>\n",
       "      <td>-999</td>\n",
       "      <td>-999</td>\n",
       "      <td>chrome 66.0 for android</td>\n",
       "      <td>-999</td>\n",
       "      <td>-999</td>\n",
       "      <td>RNE-L03 Build/HUAWEIRNE-L03</td>\n",
       "    </tr>\n",
       "  </tbody>\n",
       "</table>\n",
       "<p>144233 rows × 7 columns</p>\n",
       "</div>"
      ],
      "text/plain": [
       "       id_15 id_23             id_30                    id_31      id_33  \\\n",
       "0          3  -999       Android 7.0      samsung browser 6.2  2220x1080   \n",
       "1          3  -999        iOS 11.1.2       mobile safari 11.0   1334x750   \n",
       "2          1  -999              -999              chrome 62.0       -999   \n",
       "3          3  -999              -999              chrome 62.0       -999   \n",
       "4          1  -999  Mac OS X 10_11_6              chrome 62.0   1280x800   \n",
       "...      ...   ...               ...                      ...        ...   \n",
       "144228     1  -999              -999  chrome 66.0 for android       -999   \n",
       "144229     3  -999     Android 7.1.1  chrome 55.0 for android    855x480   \n",
       "144230     3  -999              -999  chrome 65.0 for android       -999   \n",
       "144231     1  -999   Mac OS X 10_9_5              chrome 66.0  2560x1600   \n",
       "144232     3  -999              -999  chrome 66.0 for android       -999   \n",
       "\n",
       "                 id_34                          DeviceInfo  \n",
       "0       match_status:2       SAMSUNG SM-G892A Build/NRD90M  \n",
       "1       match_status:1                          iOS Device  \n",
       "2                 -999                             Windows  \n",
       "3                 -999                                -999  \n",
       "4       match_status:2                               MacOS  \n",
       "...                ...                                 ...  \n",
       "144228            -999             F3111 Build/33.3.A.1.97  \n",
       "144229  match_status:2                 A574BL Build/NMF26F  \n",
       "144230            -999  Moto E (4) Plus Build/NMA26.42-152  \n",
       "144231  match_status:2                               MacOS  \n",
       "144232            -999         RNE-L03 Build/HUAWEIRNE-L03  \n",
       "\n",
       "[144233 rows x 7 columns]"
      ]
     },
     "execution_count": 180,
     "metadata": {},
     "output_type": "execute_result"
    }
   ],
   "source": [
    "tr_identity.select_dtypes(\"object\")"
   ]
  },
  {
   "cell_type": "code",
   "execution_count": 181,
   "id": "b90bef4a",
   "metadata": {},
   "outputs": [],
   "source": [
    "# Typecasting - To convert into string values, as label encoder uses string format\n",
    "# Function provides the capability to convert any suitable existing column to categorical type. \n",
    "tr_identity[\"id_15\"]=tr_identity[\"id_15\"].astype(str)\n",
    "tr_identity[\"id_23\"]=tr_identity[\"id_23\"].astype(str)\n",
    "tr_identity[\"id_30\"]=tr_identity[\"id_30\"].astype(str)\n",
    "tr_identity[\"id_31\"]=tr_identity[\"id_31\"].astype(str)\n",
    "tr_identity[\"id_33\"]=tr_identity[\"id_33\"].astype(str)\n",
    "tr_identity[\"id_34\"]=tr_identity[\"id_34\"].astype(str)\n",
    "tr_identity[\"DeviceInfo\"]=tr_identity[\"DeviceInfo\"].astype(str)"
   ]
  },
  {
   "cell_type": "code",
   "execution_count": 182,
   "id": "5c8b4839",
   "metadata": {},
   "outputs": [
    {
     "data": {
      "text/html": [
       "<div>\n",
       "<style scoped>\n",
       "    .dataframe tbody tr th:only-of-type {\n",
       "        vertical-align: middle;\n",
       "    }\n",
       "\n",
       "    .dataframe tbody tr th {\n",
       "        vertical-align: top;\n",
       "    }\n",
       "\n",
       "    .dataframe thead th {\n",
       "        text-align: right;\n",
       "    }\n",
       "</style>\n",
       "<table border=\"1\" class=\"dataframe\">\n",
       "  <thead>\n",
       "    <tr style=\"text-align: right;\">\n",
       "      <th></th>\n",
       "      <th>id_15</th>\n",
       "      <th>id_23</th>\n",
       "      <th>id_30</th>\n",
       "      <th>id_31</th>\n",
       "      <th>id_33</th>\n",
       "      <th>id_34</th>\n",
       "      <th>DeviceInfo</th>\n",
       "    </tr>\n",
       "  </thead>\n",
       "  <tbody>\n",
       "    <tr>\n",
       "      <th>0</th>\n",
       "      <td>3</td>\n",
       "      <td>-999</td>\n",
       "      <td>Android 7.0</td>\n",
       "      <td>samsung browser 6.2</td>\n",
       "      <td>2220x1080</td>\n",
       "      <td>match_status:2</td>\n",
       "      <td>SAMSUNG SM-G892A Build/NRD90M</td>\n",
       "    </tr>\n",
       "    <tr>\n",
       "      <th>1</th>\n",
       "      <td>3</td>\n",
       "      <td>-999</td>\n",
       "      <td>iOS 11.1.2</td>\n",
       "      <td>mobile safari 11.0</td>\n",
       "      <td>1334x750</td>\n",
       "      <td>match_status:1</td>\n",
       "      <td>iOS Device</td>\n",
       "    </tr>\n",
       "    <tr>\n",
       "      <th>2</th>\n",
       "      <td>1</td>\n",
       "      <td>-999</td>\n",
       "      <td>-999</td>\n",
       "      <td>chrome 62.0</td>\n",
       "      <td>-999</td>\n",
       "      <td>-999</td>\n",
       "      <td>Windows</td>\n",
       "    </tr>\n",
       "    <tr>\n",
       "      <th>3</th>\n",
       "      <td>3</td>\n",
       "      <td>-999</td>\n",
       "      <td>-999</td>\n",
       "      <td>chrome 62.0</td>\n",
       "      <td>-999</td>\n",
       "      <td>-999</td>\n",
       "      <td>-999</td>\n",
       "    </tr>\n",
       "    <tr>\n",
       "      <th>4</th>\n",
       "      <td>1</td>\n",
       "      <td>-999</td>\n",
       "      <td>Mac OS X 10_11_6</td>\n",
       "      <td>chrome 62.0</td>\n",
       "      <td>1280x800</td>\n",
       "      <td>match_status:2</td>\n",
       "      <td>MacOS</td>\n",
       "    </tr>\n",
       "    <tr>\n",
       "      <th>...</th>\n",
       "      <td>...</td>\n",
       "      <td>...</td>\n",
       "      <td>...</td>\n",
       "      <td>...</td>\n",
       "      <td>...</td>\n",
       "      <td>...</td>\n",
       "      <td>...</td>\n",
       "    </tr>\n",
       "    <tr>\n",
       "      <th>144228</th>\n",
       "      <td>1</td>\n",
       "      <td>-999</td>\n",
       "      <td>-999</td>\n",
       "      <td>chrome 66.0 for android</td>\n",
       "      <td>-999</td>\n",
       "      <td>-999</td>\n",
       "      <td>F3111 Build/33.3.A.1.97</td>\n",
       "    </tr>\n",
       "    <tr>\n",
       "      <th>144229</th>\n",
       "      <td>3</td>\n",
       "      <td>-999</td>\n",
       "      <td>Android 7.1.1</td>\n",
       "      <td>chrome 55.0 for android</td>\n",
       "      <td>855x480</td>\n",
       "      <td>match_status:2</td>\n",
       "      <td>A574BL Build/NMF26F</td>\n",
       "    </tr>\n",
       "    <tr>\n",
       "      <th>144230</th>\n",
       "      <td>3</td>\n",
       "      <td>-999</td>\n",
       "      <td>-999</td>\n",
       "      <td>chrome 65.0 for android</td>\n",
       "      <td>-999</td>\n",
       "      <td>-999</td>\n",
       "      <td>Moto E (4) Plus Build/NMA26.42-152</td>\n",
       "    </tr>\n",
       "    <tr>\n",
       "      <th>144231</th>\n",
       "      <td>1</td>\n",
       "      <td>-999</td>\n",
       "      <td>Mac OS X 10_9_5</td>\n",
       "      <td>chrome 66.0</td>\n",
       "      <td>2560x1600</td>\n",
       "      <td>match_status:2</td>\n",
       "      <td>MacOS</td>\n",
       "    </tr>\n",
       "    <tr>\n",
       "      <th>144232</th>\n",
       "      <td>3</td>\n",
       "      <td>-999</td>\n",
       "      <td>-999</td>\n",
       "      <td>chrome 66.0 for android</td>\n",
       "      <td>-999</td>\n",
       "      <td>-999</td>\n",
       "      <td>RNE-L03 Build/HUAWEIRNE-L03</td>\n",
       "    </tr>\n",
       "  </tbody>\n",
       "</table>\n",
       "<p>144233 rows × 7 columns</p>\n",
       "</div>"
      ],
      "text/plain": [
       "       id_15 id_23             id_30                    id_31      id_33  \\\n",
       "0          3  -999       Android 7.0      samsung browser 6.2  2220x1080   \n",
       "1          3  -999        iOS 11.1.2       mobile safari 11.0   1334x750   \n",
       "2          1  -999              -999              chrome 62.0       -999   \n",
       "3          3  -999              -999              chrome 62.0       -999   \n",
       "4          1  -999  Mac OS X 10_11_6              chrome 62.0   1280x800   \n",
       "...      ...   ...               ...                      ...        ...   \n",
       "144228     1  -999              -999  chrome 66.0 for android       -999   \n",
       "144229     3  -999     Android 7.1.1  chrome 55.0 for android    855x480   \n",
       "144230     3  -999              -999  chrome 65.0 for android       -999   \n",
       "144231     1  -999   Mac OS X 10_9_5              chrome 66.0  2560x1600   \n",
       "144232     3  -999              -999  chrome 66.0 for android       -999   \n",
       "\n",
       "                 id_34                          DeviceInfo  \n",
       "0       match_status:2       SAMSUNG SM-G892A Build/NRD90M  \n",
       "1       match_status:1                          iOS Device  \n",
       "2                 -999                             Windows  \n",
       "3                 -999                                -999  \n",
       "4       match_status:2                               MacOS  \n",
       "...                ...                                 ...  \n",
       "144228            -999             F3111 Build/33.3.A.1.97  \n",
       "144229  match_status:2                 A574BL Build/NMF26F  \n",
       "144230            -999  Moto E (4) Plus Build/NMA26.42-152  \n",
       "144231  match_status:2                               MacOS  \n",
       "144232            -999         RNE-L03 Build/HUAWEIRNE-L03  \n",
       "\n",
       "[144233 rows x 7 columns]"
      ]
     },
     "execution_count": 182,
     "metadata": {},
     "output_type": "execute_result"
    }
   ],
   "source": [
    "tr_identity.select_dtypes(\"object\")"
   ]
  },
  {
   "cell_type": "code",
   "execution_count": 183,
   "id": "b378dfc6",
   "metadata": {},
   "outputs": [],
   "source": [
    "#Label Encoder is being used to convert categorical values to unique numerical values\n",
    "# We are converting the categorical data to numerical values so that the data is machine readable\n",
    "tr_identity[\"DeviceInfo\"] = LabelEncoder().fit_transform(tr_identity[\"DeviceInfo\"])\n",
    "tr_identity[\"id_30\"] = LabelEncoder().fit_transform(tr_identity[\"id_30\"])\n",
    "tr_identity[\"id_31\"] = LabelEncoder().fit_transform(tr_identity[\"id_31\"])\n",
    "tr_identity[\"id_33\"] = LabelEncoder().fit_transform(tr_identity[\"id_33\"])\n",
    "tr_identity[\"id_34\"] = LabelEncoder().fit_transform(tr_identity[\"id_34\"])\n",
    "tr_identity[\"id_15\"] = LabelEncoder().fit_transform(tr_identity[\"id_15\"])\n",
    "tr_identity[\"id_23\"] = LabelEncoder().fit_transform(tr_identity[\"id_23\"])"
   ]
  },
  {
   "cell_type": "code",
   "execution_count": 184,
   "id": "f06228f9",
   "metadata": {},
   "outputs": [],
   "source": [
    "tr_transaction = tr_transaction.fillna(value=-999)"
   ]
  },
  {
   "cell_type": "code",
   "execution_count": 185,
   "id": "e9da4351",
   "metadata": {
    "scrolled": true
   },
   "outputs": [
    {
     "data": {
      "text/plain": [
       "['ProductCD',\n",
       " 'card4',\n",
       " 'card6',\n",
       " 'P_emaildomain',\n",
       " 'R_emaildomain',\n",
       " 'M1',\n",
       " 'M2',\n",
       " 'M3',\n",
       " 'M4',\n",
       " 'M5',\n",
       " 'M6',\n",
       " 'M7',\n",
       " 'M8',\n",
       " 'M9']"
      ]
     },
     "execution_count": 185,
     "metadata": {},
     "output_type": "execute_result"
    }
   ],
   "source": [
    "# Find categorical features\n",
    "categorical_col = [feature for feature in tr_transaction.columns if tr_transaction[feature].dtype=='O']\n",
    "categorical_col"
   ]
  },
  {
   "cell_type": "code",
   "execution_count": 186,
   "id": "baacc7d5",
   "metadata": {},
   "outputs": [],
   "source": [
    "# Function provides the capability to convert any suitable existing column to categorical type. \n",
    "\n",
    "for feature in categorical_col:\n",
    "    tr_transaction[feature]=tr_transaction[feature].astype(str)"
   ]
  },
  {
   "cell_type": "code",
   "execution_count": 187,
   "id": "2255304b",
   "metadata": {},
   "outputs": [],
   "source": [
    "\n",
    "for feature in categorical_col:\n",
    "    tr_transaction[feature]=LabelEncoder().fit_transform(tr_transaction[feature])"
   ]
  },
  {
   "cell_type": "code",
   "execution_count": null,
   "id": "cd7b7500",
   "metadata": {},
   "outputs": [],
   "source": [
    "# Merge both dataframes\n",
    "df_combined = pd.merge(tr_identity, tr_transaction, on = \"TransactionID\", how = \"outer\")\n",
    "df_combined.head()"
   ]
  },
  {
   "cell_type": "code",
   "execution_count": 80,
   "id": "04ee3084",
   "metadata": {},
   "outputs": [
    {
     "data": {
      "text/plain": [
       "TransactionID         0\n",
       "id_01            446307\n",
       "id_02            446307\n",
       "id_03            446307\n",
       "id_04            446307\n",
       "                  ...  \n",
       "V335                  0\n",
       "V336                  0\n",
       "V337                  0\n",
       "V338                  0\n",
       "V339                  0\n",
       "Length: 434, dtype: int64"
      ]
     },
     "execution_count": 80,
     "metadata": {},
     "output_type": "execute_result"
    }
   ],
   "source": [
    "df_combined.isna().sum()"
   ]
  },
  {
   "cell_type": "code",
   "execution_count": 81,
   "id": "59f8a472",
   "metadata": {},
   "outputs": [],
   "source": [
    "df_combined=df_combined.dropna()"
   ]
  },
  {
   "cell_type": "code",
   "execution_count": 82,
   "id": "2bfec9c7",
   "metadata": {},
   "outputs": [
    {
     "data": {
      "text/plain": [
       "TransactionID    0\n",
       "id_01            0\n",
       "id_02            0\n",
       "id_03            0\n",
       "id_04            0\n",
       "                ..\n",
       "V335             0\n",
       "V336             0\n",
       "V337             0\n",
       "V338             0\n",
       "V339             0\n",
       "Length: 434, dtype: int64"
      ]
     },
     "execution_count": 82,
     "metadata": {},
     "output_type": "execute_result"
    }
   ],
   "source": [
    "df_combined.isna().sum()"
   ]
  },
  {
   "cell_type": "code",
   "execution_count": 83,
   "id": "724a6ada",
   "metadata": {},
   "outputs": [
    {
     "data": {
      "text/plain": [
       "(144233, 434)"
      ]
     },
     "execution_count": 83,
     "metadata": {},
     "output_type": "execute_result"
    }
   ],
   "source": [
    "# Checking the shape of the new combined data frame\n",
    "df_combined.shape"
   ]
  },
  {
   "cell_type": "code",
   "execution_count": 84,
   "id": "44fbf85e",
   "metadata": {},
   "outputs": [
    {
     "data": {
      "image/png": "[encoded data removed]",
      "text/plain": [
       "<Figure size 432x288 with 1 Axes>"
      ]
     },
     "metadata": {
      "needs_background": "light"
     },
     "output_type": "display_data"
    }
   ],
   "source": [
    "df_combined['isFraud'].plot.density()\n",
    "plt.xlabel('isFraud')\n",
    "plt.show()"
   ]
  },
  {
   "cell_type": "code",
   "execution_count": 85,
   "id": "66596e3e",
   "metadata": {
    "scrolled": false
   },
   "outputs": [
    {
     "data": {
      "text/plain": [
       "0    132915\n",
       "1     11318\n",
       "Name: isFraud, dtype: int64"
      ]
     },
     "execution_count": 85,
     "metadata": {},
     "output_type": "execute_result"
    }
   ],
   "source": [
    "df_combined['isFraud'].value_counts()"
   ]
  },
  {
   "cell_type": "markdown",
   "id": "65941343",
   "metadata": {},
   "source": [
    "# Model 1 - Decision Tree Classifier"
   ]
  },
  {
   "cell_type": "code",
   "execution_count": 1,
   "id": "c97c8b7b",
   "metadata": {},
   "outputs": [],
   "source": [
    "# Importing train test split to create validation set\n",
    "from sklearn.model_selection import train_test_split"
   ]
  },
  {
   "cell_type": "code",
   "execution_count": 87,
   "id": "452b7c56",
   "metadata": {},
   "outputs": [],
   "source": [
    "y = df_combined['isFraud']\n",
    "X = df_combined.drop(['isFraud'],axis = 1)"
   ]
  },
  {
   "cell_type": "code",
   "execution_count": 88,
   "id": "7eeb5631",
   "metadata": {},
   "outputs": [],
   "source": [
    "# Creating the training and test set\n",
    "# We are splitting the datasets into 80% training set and 20% test set\n",
    "X_train,X_test,y_train,y_test = train_test_split(X,y,random_state = 0,stratify = y,test_size=0.2)"
   ]
  },
  {
   "cell_type": "code",
   "execution_count": 89,
   "id": "53f6f050",
   "metadata": {},
   "outputs": [
    {
     "data": {
      "text/plain": [
       "0    0.921533\n",
       "1    0.078467\n",
       "Name: isFraud, dtype: float64"
      ]
     },
     "execution_count": 89,
     "metadata": {},
     "output_type": "execute_result"
    }
   ],
   "source": [
    "# Distribution in training set\n",
    "y_train.value_counts(normalize=True)"
   ]
  },
  {
   "cell_type": "code",
   "execution_count": 90,
   "id": "7b412460",
   "metadata": {},
   "outputs": [
    {
     "data": {
      "text/plain": [
       "0    0.921517\n",
       "1    0.078483\n",
       "Name: isFraud, dtype: float64"
      ]
     },
     "execution_count": 90,
     "metadata": {},
     "output_type": "execute_result"
    }
   ],
   "source": [
    "# Distribution in test set\n",
    "y_test.value_counts(normalize=True)"
   ]
  },
  {
   "cell_type": "code",
   "execution_count": 91,
   "id": "c6dabf94",
   "metadata": {},
   "outputs": [
    {
     "data": {
      "text/plain": [
       "((115386, 433), (115386,))"
      ]
     },
     "execution_count": 91,
     "metadata": {},
     "output_type": "execute_result"
    }
   ],
   "source": [
    "# Shape of training set\n",
    "X_train.shape,y_train.shape"
   ]
  },
  {
   "cell_type": "code",
   "execution_count": 92,
   "id": "4b3ec908",
   "metadata": {},
   "outputs": [
    {
     "data": {
      "text/plain": [
       "((28847, 433), (28847,))"
      ]
     },
     "execution_count": 92,
     "metadata": {},
     "output_type": "execute_result"
    }
   ],
   "source": [
    "# Shape of test set\n",
    "X_test.shape,y_valid.shape"
   ]
  },
  {
   "cell_type": "code",
   "execution_count": 93,
   "id": "37ae55b6",
   "metadata": {},
   "outputs": [],
   "source": [
    "#importing DecisionTreeClassifier\n",
    "from sklearn.tree import DecisionTreeClassifier"
   ]
  },
  {
   "cell_type": "code",
   "execution_count": 94,
   "id": "15fba5f7",
   "metadata": {},
   "outputs": [],
   "source": [
    "# importing DecisionTreeRegressor\n",
    "from sklearn.tree import DecisionTreeRegressor"
   ]
  },
  {
   "cell_type": "code",
   "execution_count": 95,
   "id": "a138551f",
   "metadata": {},
   "outputs": [],
   "source": [
    "# creating the decision tree function\n",
    "dt_model = DecisionTreeClassifier(random_state = 0)"
   ]
  },
  {
   "cell_type": "code",
   "execution_count": 96,
   "id": "1d1f6ea6",
   "metadata": {},
   "outputs": [
    {
     "data": {
      "text/plain": [
       "DecisionTreeClassifier(random_state=0)"
      ]
     },
     "execution_count": 96,
     "metadata": {},
     "output_type": "execute_result"
    }
   ],
   "source": [
    "# Fitting the model\n",
    "dt_model.fit(X_train,y_train)"
   ]
  },
  {
   "cell_type": "code",
   "execution_count": 97,
   "id": "84e78320",
   "metadata": {},
   "outputs": [
    {
     "data": {
      "text/plain": [
       "1.0"
      ]
     },
     "execution_count": 97,
     "metadata": {},
     "output_type": "execute_result"
    }
   ],
   "source": [
    "# checking the training score\n",
    "dt_model.score(X_train,y_train)"
   ]
  },
  {
   "cell_type": "code",
   "execution_count": 98,
   "id": "57f11800",
   "metadata": {},
   "outputs": [
    {
     "data": {
      "text/plain": [
       "0.9528547162616563"
      ]
     },
     "execution_count": 98,
     "metadata": {},
     "output_type": "execute_result"
    }
   ],
   "source": [
    "#checking the test score\n",
    "dt_model.score(X_valid,y_test)"
   ]
  },
  {
   "cell_type": "code",
   "execution_count": 99,
   "id": "30401b62",
   "metadata": {},
   "outputs": [
    {
     "data": {
      "text/plain": [
       "array([0, 0, 0, ..., 0, 0, 0])"
      ]
     },
     "execution_count": 99,
     "metadata": {},
     "output_type": "execute_result"
    }
   ],
   "source": [
    "# prediction on test set\n",
    "dt_model.predict(X_test)"
   ]
  },
  {
   "cell_type": "code",
   "execution_count": 100,
   "id": "96c09d89",
   "metadata": {},
   "outputs": [
    {
     "data": {
      "text/plain": [
       "array([[1., 0.],\n",
       "       [1., 0.],\n",
       "       [1., 0.],\n",
       "       ...,\n",
       "       [1., 0.],\n",
       "       [1., 0.],\n",
       "       [1., 0.]])"
      ]
     },
     "execution_count": 100,
     "metadata": {},
     "output_type": "execute_result"
    }
   ],
   "source": [
    "dt_model.predict_proba(X_test)"
   ]
  },
  {
   "cell_type": "code",
   "execution_count": 101,
   "id": "d551b4ab",
   "metadata": {},
   "outputs": [],
   "source": [
    "y_pred = dt_model.predict_proba(X_test)[:,1]"
   ]
  },
  {
   "cell_type": "code",
   "execution_count": 102,
   "id": "1647b287",
   "metadata": {},
   "outputs": [],
   "source": [
    "new_y = []\n",
    "for i in range(len(y_pred)):\n",
    "    if y_pred[i]<0.8:\n",
    "        new_y.append(0)\n",
    "    else:\n",
    "        new_y.append(1)"
   ]
  },
  {
   "cell_type": "code",
   "execution_count": 103,
   "id": "0a9429f5",
   "metadata": {},
   "outputs": [],
   "source": [
    "from sklearn.metrics import accuracy_score"
   ]
  },
  {
   "cell_type": "code",
   "execution_count": 114,
   "id": "bc49ff1c",
   "metadata": {},
   "outputs": [
    {
     "name": "stdout",
     "output_type": "stream",
     "text": [
      "The Accuracy of this model is :0.9528547162616563\n"
     ]
    }
   ],
   "source": [
    "print(f'The Accuracy of this model is :{accuracy_score(y_test,new_y)}')"
   ]
  },
  {
   "cell_type": "markdown",
   "id": "4c32863c",
   "metadata": {},
   "source": [
    "# Model 2 - Random Forest"
   ]
  },
  {
   "cell_type": "code",
   "execution_count": 105,
   "id": "2b16a35d",
   "metadata": {},
   "outputs": [],
   "source": [
    "X_train, X_test, y_train, y_test=train_test_split(X,y,random_state=0,test_size=0.2)"
   ]
  },
  {
   "cell_type": "code",
   "execution_count": 106,
   "id": "106a0667",
   "metadata": {},
   "outputs": [
    {
     "name": "stdout",
     "output_type": "stream",
     "text": [
      "(115386, 433) (115386,) (28847, 433) (28847,)\n"
     ]
    }
   ],
   "source": [
    "print(X_train.shape, y_train.shape, X_test.shape, y_test.shape)"
   ]
  },
  {
   "cell_type": "code",
   "execution_count": 107,
   "id": "b08a6b40",
   "metadata": {},
   "outputs": [
    {
     "data": {
      "text/plain": [
       "DecisionTreeClassifier(class_weight='balanced', max_depth=7)"
      ]
     },
     "execution_count": 107,
     "metadata": {},
     "output_type": "execute_result"
    }
   ],
   "source": [
    "clf = DecisionTreeClassifier(max_depth=7,class_weight='balanced')\n",
    "clf.fit(X_train,y_train)"
   ]
  },
  {
   "cell_type": "code",
   "execution_count": 108,
   "id": "b75c8650",
   "metadata": {},
   "outputs": [],
   "source": [
    "y_pred_dt = clf.predict(X_test)"
   ]
  },
  {
   "cell_type": "code",
   "execution_count": 109,
   "id": "f97a0cd5",
   "metadata": {},
   "outputs": [
    {
     "name": "stdout",
     "output_type": "stream",
     "text": [
      "AUC score:  0.8524112601974988\n"
     ]
    }
   ],
   "source": [
    "print('AUC score: ',roc_auc_score(y_test,y_pred_dt))"
   ]
  },
  {
   "cell_type": "markdown",
   "id": "f9869574",
   "metadata": {},
   "source": [
    "- this means that model is predicting fraudulant transactions correctly almost 95.2% of the time \n",
    "\n",
    "\n",
    "- Decision Tree Model is our **FINAL MODEL** for project submission."
   ]
  }
 ],
 "metadata": {
  "kernelspec": {
   "display_name": "Python 3 (ipykernel)",
   "language": "python",
   "name": "python3"
  },
  "language_info": {
   "codemirror_mode": {
    "name": "ipython",
    "version": 3
   },
   "file_extension": ".py",
   "mimetype": "text/x-python",
   "name": "python",
   "nbconvert_exporter": "python",
   "pygments_lexer": "ipython3",
   "version": "3.9.7"
  }
 },
 "nbformat": 4,
 "nbformat_minor": 5
}
